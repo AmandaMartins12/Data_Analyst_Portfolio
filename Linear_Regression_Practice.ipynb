{
  "nbformat": 4,
  "nbformat_minor": 0,
  "metadata": {
    "colab": {
      "provenance": [],
      "authorship_tag": "ABX9TyNcgS00GWTf4oll2J3xsGVA",
      "include_colab_link": true
    },
    "kernelspec": {
      "name": "python3",
      "display_name": "Python 3"
    },
    "language_info": {
      "name": "python"
    }
  },
  "cells": [
    {
      "cell_type": "markdown",
      "metadata": {
        "id": "view-in-github",
        "colab_type": "text"
      },
      "source": [
        "<a href=\"https://colab.research.google.com/github/AmandaMartins12/Data_Analyst_Portfolio/blob/main/Linear_Regression_Practice.ipynb\" target=\"_parent\"><img src=\"https://colab.research.google.com/assets/colab-badge.svg\" alt=\"Open In Colab\"/></a>"
      ]
    },
    {
      "cell_type": "markdown",
      "source": [
        "##**Finding the number of days to deliver products for an e-commerce company using Linear Regression**\n",
        "\n",
        "---\n",
        "\n"
      ],
      "metadata": {
        "id": "LP1z_x979XXe"
      }
    },
    {
      "cell_type": "markdown",
      "source": [
        "Linear regression is a statistical technique that allows us to model the relationship between a dependent variable (target) and one or more independent or variables (predictors). Through this technique, we can better understand how variables are related and how they influence each other. In the model below, simple linear regression was used to help an e-commerce company calculate the number of days for delivery, taking into account the freight cost of the product and the particularities of each region of the country."
      ],
      "metadata": {
        "id": "aURqj5NE-Gef"
      }
    },
    {
      "cell_type": "markdown",
      "source": [
        "###**Importing Libraries**"
      ],
      "metadata": {
        "id": "HXjpcFEwbool"
      }
    },
    {
      "cell_type": "code",
      "source": [
        "import pandas as pd\n",
        "import plotly  as px\n",
        "import matplotlib.pyplot as plt\n",
        "import seaborn as sns\n",
        "import numpy as np\n",
        "from sklearn.metrics import mean_absolute_error, mean_squared_error"
      ],
      "metadata": {
        "id": "V5Y9R2eZdbkX"
      },
      "execution_count": null,
      "outputs": []
    },
    {
      "cell_type": "markdown",
      "source": [
        "### **Collecting the data**\n"
      ],
      "metadata": {
        "id": "jQoNYJc8eBMV"
      }
    },
    {
      "cell_type": "code",
      "source": [
        " delivery_days = pd.read_csv(\"/content/freight.csv\", sep = \";\")"
      ],
      "metadata": {
        "id": "oU14ZEYne_Z5"
      },
      "execution_count": null,
      "outputs": []
    },
    {
      "cell_type": "markdown",
      "source": [
        "###**Analyzing the collected data**"
      ],
      "metadata": {
        "id": "iTbqcy_Fi91O"
      }
    },
    {
      "cell_type": "code",
      "source": [
        "#viewing database files\n",
        "delivery_days.head()"
      ],
      "metadata": {
        "colab": {
          "base_uri": "https://localhost:8080/",
          "height": 206
        },
        "id": "k2Lm2o1CkYl1",
        "outputId": "11570d2b-2abb-4116-f27c-48546218e9e2"
      },
      "execution_count": null,
      "outputs": [
        {
          "output_type": "execute_result",
          "data": {
            "text/plain": [
              "  Região  Valor do Frete  Dias para Entrega\n",
              "0  Norte           49.59               20.0\n",
              "1  Norte          117.57                3.0\n",
              "2  Norte           98.15                7.0\n",
              "3  Norte           96.98                6.0\n",
              "4  Norte          123.00                6.0"
            ],
            "text/html": [
              "\n",
              "  <div id=\"df-7d29f31a-6b01-4b11-862a-1261937c53ca\">\n",
              "    <div class=\"colab-df-container\">\n",
              "      <div>\n",
              "<style scoped>\n",
              "    .dataframe tbody tr th:only-of-type {\n",
              "        vertical-align: middle;\n",
              "    }\n",
              "\n",
              "    .dataframe tbody tr th {\n",
              "        vertical-align: top;\n",
              "    }\n",
              "\n",
              "    .dataframe thead th {\n",
              "        text-align: right;\n",
              "    }\n",
              "</style>\n",
              "<table border=\"1\" class=\"dataframe\">\n",
              "  <thead>\n",
              "    <tr style=\"text-align: right;\">\n",
              "      <th></th>\n",
              "      <th>Região</th>\n",
              "      <th>Valor do Frete</th>\n",
              "      <th>Dias para Entrega</th>\n",
              "    </tr>\n",
              "  </thead>\n",
              "  <tbody>\n",
              "    <tr>\n",
              "      <th>0</th>\n",
              "      <td>Norte</td>\n",
              "      <td>49.59</td>\n",
              "      <td>20.0</td>\n",
              "    </tr>\n",
              "    <tr>\n",
              "      <th>1</th>\n",
              "      <td>Norte</td>\n",
              "      <td>117.57</td>\n",
              "      <td>3.0</td>\n",
              "    </tr>\n",
              "    <tr>\n",
              "      <th>2</th>\n",
              "      <td>Norte</td>\n",
              "      <td>98.15</td>\n",
              "      <td>7.0</td>\n",
              "    </tr>\n",
              "    <tr>\n",
              "      <th>3</th>\n",
              "      <td>Norte</td>\n",
              "      <td>96.98</td>\n",
              "      <td>6.0</td>\n",
              "    </tr>\n",
              "    <tr>\n",
              "      <th>4</th>\n",
              "      <td>Norte</td>\n",
              "      <td>123.00</td>\n",
              "      <td>6.0</td>\n",
              "    </tr>\n",
              "  </tbody>\n",
              "</table>\n",
              "</div>\n",
              "      <button class=\"colab-df-convert\" onclick=\"convertToInteractive('df-7d29f31a-6b01-4b11-862a-1261937c53ca')\"\n",
              "              title=\"Convert this dataframe to an interactive table.\"\n",
              "              style=\"display:none;\">\n",
              "        \n",
              "  <svg xmlns=\"http://www.w3.org/2000/svg\" height=\"24px\"viewBox=\"0 0 24 24\"\n",
              "       width=\"24px\">\n",
              "    <path d=\"M0 0h24v24H0V0z\" fill=\"none\"/>\n",
              "    <path d=\"M18.56 5.44l.94 2.06.94-2.06 2.06-.94-2.06-.94-.94-2.06-.94 2.06-2.06.94zm-11 1L8.5 8.5l.94-2.06 2.06-.94-2.06-.94L8.5 2.5l-.94 2.06-2.06.94zm10 10l.94 2.06.94-2.06 2.06-.94-2.06-.94-.94-2.06-.94 2.06-2.06.94z\"/><path d=\"M17.41 7.96l-1.37-1.37c-.4-.4-.92-.59-1.43-.59-.52 0-1.04.2-1.43.59L10.3 9.45l-7.72 7.72c-.78.78-.78 2.05 0 2.83L4 21.41c.39.39.9.59 1.41.59.51 0 1.02-.2 1.41-.59l7.78-7.78 2.81-2.81c.8-.78.8-2.07 0-2.86zM5.41 20L4 18.59l7.72-7.72 1.47 1.35L5.41 20z\"/>\n",
              "  </svg>\n",
              "      </button>\n",
              "      \n",
              "  <style>\n",
              "    .colab-df-container {\n",
              "      display:flex;\n",
              "      flex-wrap:wrap;\n",
              "      gap: 12px;\n",
              "    }\n",
              "\n",
              "    .colab-df-convert {\n",
              "      background-color: #E8F0FE;\n",
              "      border: none;\n",
              "      border-radius: 50%;\n",
              "      cursor: pointer;\n",
              "      display: none;\n",
              "      fill: #1967D2;\n",
              "      height: 32px;\n",
              "      padding: 0 0 0 0;\n",
              "      width: 32px;\n",
              "    }\n",
              "\n",
              "    .colab-df-convert:hover {\n",
              "      background-color: #E2EBFA;\n",
              "      box-shadow: 0px 1px 2px rgba(60, 64, 67, 0.3), 0px 1px 3px 1px rgba(60, 64, 67, 0.15);\n",
              "      fill: #174EA6;\n",
              "    }\n",
              "\n",
              "    [theme=dark] .colab-df-convert {\n",
              "      background-color: #3B4455;\n",
              "      fill: #D2E3FC;\n",
              "    }\n",
              "\n",
              "    [theme=dark] .colab-df-convert:hover {\n",
              "      background-color: #434B5C;\n",
              "      box-shadow: 0px 1px 3px 1px rgba(0, 0, 0, 0.15);\n",
              "      filter: drop-shadow(0px 1px 2px rgba(0, 0, 0, 0.3));\n",
              "      fill: #FFFFFF;\n",
              "    }\n",
              "  </style>\n",
              "\n",
              "      <script>\n",
              "        const buttonEl =\n",
              "          document.querySelector('#df-7d29f31a-6b01-4b11-862a-1261937c53ca button.colab-df-convert');\n",
              "        buttonEl.style.display =\n",
              "          google.colab.kernel.accessAllowed ? 'block' : 'none';\n",
              "\n",
              "        async function convertToInteractive(key) {\n",
              "          const element = document.querySelector('#df-7d29f31a-6b01-4b11-862a-1261937c53ca');\n",
              "          const dataTable =\n",
              "            await google.colab.kernel.invokeFunction('convertToInteractive',\n",
              "                                                     [key], {});\n",
              "          if (!dataTable) return;\n",
              "\n",
              "          const docLinkHtml = 'Like what you see? Visit the ' +\n",
              "            '<a target=\"_blank\" href=https://colab.research.google.com/notebooks/data_table.ipynb>data table notebook</a>'\n",
              "            + ' to learn more about interactive tables.';\n",
              "          element.innerHTML = '';\n",
              "          dataTable['output_type'] = 'display_data';\n",
              "          await google.colab.output.renderOutput(dataTable, element);\n",
              "          const docLink = document.createElement('div');\n",
              "          docLink.innerHTML = docLinkHtml;\n",
              "          element.appendChild(docLink);\n",
              "        }\n",
              "      </script>\n",
              "    </div>\n",
              "  </div>\n",
              "  "
            ]
          },
          "metadata": {},
          "execution_count": 28
        }
      ]
    },
    {
      "cell_type": "code",
      "source": [
        "# filtering data from the southeast\n",
        "southeast_data = delivery_days.query ('Região == \"Sudeste\"')\n",
        "southeast_data.head()"
      ],
      "metadata": {
        "colab": {
          "base_uri": "https://localhost:8080/",
          "height": 206
        },
        "id": "QqqNIPQ2hVEe",
        "outputId": "a68c627a-1e3b-4061-8dd7-de0665916b3c"
      },
      "execution_count": null,
      "outputs": [
        {
          "output_type": "execute_result",
          "data": {
            "text/plain": [
              "      Região  Valor do Frete  Dias para Entrega\n",
              "200  Sudeste          106.04                8.0\n",
              "201  Sudeste          103.51                1.0\n",
              "202  Sudeste           82.69               13.0\n",
              "203  Sudeste          108.23                4.0\n",
              "204  Sudeste          116.11                1.0"
            ],
            "text/html": [
              "\n",
              "  <div id=\"df-56723bc9-3e7f-48f8-9500-948bfb0e5e50\">\n",
              "    <div class=\"colab-df-container\">\n",
              "      <div>\n",
              "<style scoped>\n",
              "    .dataframe tbody tr th:only-of-type {\n",
              "        vertical-align: middle;\n",
              "    }\n",
              "\n",
              "    .dataframe tbody tr th {\n",
              "        vertical-align: top;\n",
              "    }\n",
              "\n",
              "    .dataframe thead th {\n",
              "        text-align: right;\n",
              "    }\n",
              "</style>\n",
              "<table border=\"1\" class=\"dataframe\">\n",
              "  <thead>\n",
              "    <tr style=\"text-align: right;\">\n",
              "      <th></th>\n",
              "      <th>Região</th>\n",
              "      <th>Valor do Frete</th>\n",
              "      <th>Dias para Entrega</th>\n",
              "    </tr>\n",
              "  </thead>\n",
              "  <tbody>\n",
              "    <tr>\n",
              "      <th>200</th>\n",
              "      <td>Sudeste</td>\n",
              "      <td>106.04</td>\n",
              "      <td>8.0</td>\n",
              "    </tr>\n",
              "    <tr>\n",
              "      <th>201</th>\n",
              "      <td>Sudeste</td>\n",
              "      <td>103.51</td>\n",
              "      <td>1.0</td>\n",
              "    </tr>\n",
              "    <tr>\n",
              "      <th>202</th>\n",
              "      <td>Sudeste</td>\n",
              "      <td>82.69</td>\n",
              "      <td>13.0</td>\n",
              "    </tr>\n",
              "    <tr>\n",
              "      <th>203</th>\n",
              "      <td>Sudeste</td>\n",
              "      <td>108.23</td>\n",
              "      <td>4.0</td>\n",
              "    </tr>\n",
              "    <tr>\n",
              "      <th>204</th>\n",
              "      <td>Sudeste</td>\n",
              "      <td>116.11</td>\n",
              "      <td>1.0</td>\n",
              "    </tr>\n",
              "  </tbody>\n",
              "</table>\n",
              "</div>\n",
              "      <button class=\"colab-df-convert\" onclick=\"convertToInteractive('df-56723bc9-3e7f-48f8-9500-948bfb0e5e50')\"\n",
              "              title=\"Convert this dataframe to an interactive table.\"\n",
              "              style=\"display:none;\">\n",
              "        \n",
              "  <svg xmlns=\"http://www.w3.org/2000/svg\" height=\"24px\"viewBox=\"0 0 24 24\"\n",
              "       width=\"24px\">\n",
              "    <path d=\"M0 0h24v24H0V0z\" fill=\"none\"/>\n",
              "    <path d=\"M18.56 5.44l.94 2.06.94-2.06 2.06-.94-2.06-.94-.94-2.06-.94 2.06-2.06.94zm-11 1L8.5 8.5l.94-2.06 2.06-.94-2.06-.94L8.5 2.5l-.94 2.06-2.06.94zm10 10l.94 2.06.94-2.06 2.06-.94-2.06-.94-.94-2.06-.94 2.06-2.06.94z\"/><path d=\"M17.41 7.96l-1.37-1.37c-.4-.4-.92-.59-1.43-.59-.52 0-1.04.2-1.43.59L10.3 9.45l-7.72 7.72c-.78.78-.78 2.05 0 2.83L4 21.41c.39.39.9.59 1.41.59.51 0 1.02-.2 1.41-.59l7.78-7.78 2.81-2.81c.8-.78.8-2.07 0-2.86zM5.41 20L4 18.59l7.72-7.72 1.47 1.35L5.41 20z\"/>\n",
              "  </svg>\n",
              "      </button>\n",
              "      \n",
              "  <style>\n",
              "    .colab-df-container {\n",
              "      display:flex;\n",
              "      flex-wrap:wrap;\n",
              "      gap: 12px;\n",
              "    }\n",
              "\n",
              "    .colab-df-convert {\n",
              "      background-color: #E8F0FE;\n",
              "      border: none;\n",
              "      border-radius: 50%;\n",
              "      cursor: pointer;\n",
              "      display: none;\n",
              "      fill: #1967D2;\n",
              "      height: 32px;\n",
              "      padding: 0 0 0 0;\n",
              "      width: 32px;\n",
              "    }\n",
              "\n",
              "    .colab-df-convert:hover {\n",
              "      background-color: #E2EBFA;\n",
              "      box-shadow: 0px 1px 2px rgba(60, 64, 67, 0.3), 0px 1px 3px 1px rgba(60, 64, 67, 0.15);\n",
              "      fill: #174EA6;\n",
              "    }\n",
              "\n",
              "    [theme=dark] .colab-df-convert {\n",
              "      background-color: #3B4455;\n",
              "      fill: #D2E3FC;\n",
              "    }\n",
              "\n",
              "    [theme=dark] .colab-df-convert:hover {\n",
              "      background-color: #434B5C;\n",
              "      box-shadow: 0px 1px 3px 1px rgba(0, 0, 0, 0.15);\n",
              "      filter: drop-shadow(0px 1px 2px rgba(0, 0, 0, 0.3));\n",
              "      fill: #FFFFFF;\n",
              "    }\n",
              "  </style>\n",
              "\n",
              "      <script>\n",
              "        const buttonEl =\n",
              "          document.querySelector('#df-56723bc9-3e7f-48f8-9500-948bfb0e5e50 button.colab-df-convert');\n",
              "        buttonEl.style.display =\n",
              "          google.colab.kernel.accessAllowed ? 'block' : 'none';\n",
              "\n",
              "        async function convertToInteractive(key) {\n",
              "          const element = document.querySelector('#df-56723bc9-3e7f-48f8-9500-948bfb0e5e50');\n",
              "          const dataTable =\n",
              "            await google.colab.kernel.invokeFunction('convertToInteractive',\n",
              "                                                     [key], {});\n",
              "          if (!dataTable) return;\n",
              "\n",
              "          const docLinkHtml = 'Like what you see? Visit the ' +\n",
              "            '<a target=\"_blank\" href=https://colab.research.google.com/notebooks/data_table.ipynb>data table notebook</a>'\n",
              "            + ' to learn more about interactive tables.';\n",
              "          element.innerHTML = '';\n",
              "          dataTable['output_type'] = 'display_data';\n",
              "          await google.colab.output.renderOutput(dataTable, element);\n",
              "          const docLink = document.createElement('div');\n",
              "          docLink.innerHTML = docLinkHtml;\n",
              "          element.appendChild(docLink);\n",
              "        }\n",
              "      </script>\n",
              "    </div>\n",
              "  </div>\n",
              "  "
            ]
          },
          "metadata": {},
          "execution_count": 29
        }
      ]
    },
    {
      "cell_type": "markdown",
      "source": [
        "###**Analyzing the data from the Southeast Region**"
      ],
      "metadata": {
        "id": "-L9ahDlpCPta"
      }
    },
    {
      "cell_type": "markdown",
      "source": [
        "The analysis was done taking into account the particularities of each region. Thus, to demonstrate the model's operation, data from the Southeast Region was used. However, the same procedure can be applied to the other regions of Brazil."
      ],
      "metadata": {
        "id": "JQyduHvaHkGm"
      }
    },
    {
      "cell_type": "code",
      "source": [
        "#generating some statistics from the database\n",
        "southeast_data.describe()"
      ],
      "metadata": {
        "colab": {
          "base_uri": "https://localhost:8080/",
          "height": 300
        },
        "id": "99aY1GnplawL",
        "outputId": "354a0cfc-4425-4f4b-af43-28fbb4f7653a"
      },
      "execution_count": null,
      "outputs": [
        {
          "output_type": "execute_result",
          "data": {
            "text/plain": [
              "       Valor do Frete  Dias para Entrega\n",
              "count      100.000000         100.000000\n",
              "mean        87.186500           8.120000\n",
              "std         22.707019           5.733615\n",
              "min         19.170000           1.000000\n",
              "25%         73.017500           3.750000\n",
              "50%         89.240000           7.000000\n",
              "75%        106.190000          12.000000\n",
              "max        119.570000          26.000000"
            ],
            "text/html": [
              "\n",
              "  <div id=\"df-23f3f762-0e47-47b4-a3a8-59ca75827363\">\n",
              "    <div class=\"colab-df-container\">\n",
              "      <div>\n",
              "<style scoped>\n",
              "    .dataframe tbody tr th:only-of-type {\n",
              "        vertical-align: middle;\n",
              "    }\n",
              "\n",
              "    .dataframe tbody tr th {\n",
              "        vertical-align: top;\n",
              "    }\n",
              "\n",
              "    .dataframe thead th {\n",
              "        text-align: right;\n",
              "    }\n",
              "</style>\n",
              "<table border=\"1\" class=\"dataframe\">\n",
              "  <thead>\n",
              "    <tr style=\"text-align: right;\">\n",
              "      <th></th>\n",
              "      <th>Valor do Frete</th>\n",
              "      <th>Dias para Entrega</th>\n",
              "    </tr>\n",
              "  </thead>\n",
              "  <tbody>\n",
              "    <tr>\n",
              "      <th>count</th>\n",
              "      <td>100.000000</td>\n",
              "      <td>100.000000</td>\n",
              "    </tr>\n",
              "    <tr>\n",
              "      <th>mean</th>\n",
              "      <td>87.186500</td>\n",
              "      <td>8.120000</td>\n",
              "    </tr>\n",
              "    <tr>\n",
              "      <th>std</th>\n",
              "      <td>22.707019</td>\n",
              "      <td>5.733615</td>\n",
              "    </tr>\n",
              "    <tr>\n",
              "      <th>min</th>\n",
              "      <td>19.170000</td>\n",
              "      <td>1.000000</td>\n",
              "    </tr>\n",
              "    <tr>\n",
              "      <th>25%</th>\n",
              "      <td>73.017500</td>\n",
              "      <td>3.750000</td>\n",
              "    </tr>\n",
              "    <tr>\n",
              "      <th>50%</th>\n",
              "      <td>89.240000</td>\n",
              "      <td>7.000000</td>\n",
              "    </tr>\n",
              "    <tr>\n",
              "      <th>75%</th>\n",
              "      <td>106.190000</td>\n",
              "      <td>12.000000</td>\n",
              "    </tr>\n",
              "    <tr>\n",
              "      <th>max</th>\n",
              "      <td>119.570000</td>\n",
              "      <td>26.000000</td>\n",
              "    </tr>\n",
              "  </tbody>\n",
              "</table>\n",
              "</div>\n",
              "      <button class=\"colab-df-convert\" onclick=\"convertToInteractive('df-23f3f762-0e47-47b4-a3a8-59ca75827363')\"\n",
              "              title=\"Convert this dataframe to an interactive table.\"\n",
              "              style=\"display:none;\">\n",
              "        \n",
              "  <svg xmlns=\"http://www.w3.org/2000/svg\" height=\"24px\"viewBox=\"0 0 24 24\"\n",
              "       width=\"24px\">\n",
              "    <path d=\"M0 0h24v24H0V0z\" fill=\"none\"/>\n",
              "    <path d=\"M18.56 5.44l.94 2.06.94-2.06 2.06-.94-2.06-.94-.94-2.06-.94 2.06-2.06.94zm-11 1L8.5 8.5l.94-2.06 2.06-.94-2.06-.94L8.5 2.5l-.94 2.06-2.06.94zm10 10l.94 2.06.94-2.06 2.06-.94-2.06-.94-.94-2.06-.94 2.06-2.06.94z\"/><path d=\"M17.41 7.96l-1.37-1.37c-.4-.4-.92-.59-1.43-.59-.52 0-1.04.2-1.43.59L10.3 9.45l-7.72 7.72c-.78.78-.78 2.05 0 2.83L4 21.41c.39.39.9.59 1.41.59.51 0 1.02-.2 1.41-.59l7.78-7.78 2.81-2.81c.8-.78.8-2.07 0-2.86zM5.41 20L4 18.59l7.72-7.72 1.47 1.35L5.41 20z\"/>\n",
              "  </svg>\n",
              "      </button>\n",
              "      \n",
              "  <style>\n",
              "    .colab-df-container {\n",
              "      display:flex;\n",
              "      flex-wrap:wrap;\n",
              "      gap: 12px;\n",
              "    }\n",
              "\n",
              "    .colab-df-convert {\n",
              "      background-color: #E8F0FE;\n",
              "      border: none;\n",
              "      border-radius: 50%;\n",
              "      cursor: pointer;\n",
              "      display: none;\n",
              "      fill: #1967D2;\n",
              "      height: 32px;\n",
              "      padding: 0 0 0 0;\n",
              "      width: 32px;\n",
              "    }\n",
              "\n",
              "    .colab-df-convert:hover {\n",
              "      background-color: #E2EBFA;\n",
              "      box-shadow: 0px 1px 2px rgba(60, 64, 67, 0.3), 0px 1px 3px 1px rgba(60, 64, 67, 0.15);\n",
              "      fill: #174EA6;\n",
              "    }\n",
              "\n",
              "    [theme=dark] .colab-df-convert {\n",
              "      background-color: #3B4455;\n",
              "      fill: #D2E3FC;\n",
              "    }\n",
              "\n",
              "    [theme=dark] .colab-df-convert:hover {\n",
              "      background-color: #434B5C;\n",
              "      box-shadow: 0px 1px 3px 1px rgba(0, 0, 0, 0.15);\n",
              "      filter: drop-shadow(0px 1px 2px rgba(0, 0, 0, 0.3));\n",
              "      fill: #FFFFFF;\n",
              "    }\n",
              "  </style>\n",
              "\n",
              "      <script>\n",
              "        const buttonEl =\n",
              "          document.querySelector('#df-23f3f762-0e47-47b4-a3a8-59ca75827363 button.colab-df-convert');\n",
              "        buttonEl.style.display =\n",
              "          google.colab.kernel.accessAllowed ? 'block' : 'none';\n",
              "\n",
              "        async function convertToInteractive(key) {\n",
              "          const element = document.querySelector('#df-23f3f762-0e47-47b4-a3a8-59ca75827363');\n",
              "          const dataTable =\n",
              "            await google.colab.kernel.invokeFunction('convertToInteractive',\n",
              "                                                     [key], {});\n",
              "          if (!dataTable) return;\n",
              "\n",
              "          const docLinkHtml = 'Like what you see? Visit the ' +\n",
              "            '<a target=\"_blank\" href=https://colab.research.google.com/notebooks/data_table.ipynb>data table notebook</a>'\n",
              "            + ' to learn more about interactive tables.';\n",
              "          element.innerHTML = '';\n",
              "          dataTable['output_type'] = 'display_data';\n",
              "          await google.colab.output.renderOutput(dataTable, element);\n",
              "          const docLink = document.createElement('div');\n",
              "          docLink.innerHTML = docLinkHtml;\n",
              "          element.appendChild(docLink);\n",
              "        }\n",
              "      </script>\n",
              "    </div>\n",
              "  </div>\n",
              "  "
            ]
          },
          "metadata": {},
          "execution_count": 30
        }
      ]
    },
    {
      "cell_type": "code",
      "source": [
        "# checking if there are any null or missing values\n",
        "southeast_data.isna().sum()"
      ],
      "metadata": {
        "colab": {
          "base_uri": "https://localhost:8080/"
        },
        "id": "PyG2RcWOo941",
        "outputId": "e853d82d-2113-4432-e3fa-a15161092c5e"
      },
      "execution_count": null,
      "outputs": [
        {
          "output_type": "execute_result",
          "data": {
            "text/plain": [
              "Região               0\n",
              "Valor do Frete       0\n",
              "Dias para Entrega    0\n",
              "dtype: int64"
            ]
          },
          "metadata": {},
          "execution_count": 19
        }
      ]
    },
    {
      "cell_type": "code",
      "source": [
        "#checking database data types\n",
        "southeast_data.info()"
      ],
      "metadata": {
        "colab": {
          "base_uri": "https://localhost:8080/"
        },
        "id": "ToUKX0QMpDNg",
        "outputId": "c617bfdc-e40e-4d10-bc5d-ffd9e47428e8"
      },
      "execution_count": null,
      "outputs": [
        {
          "output_type": "stream",
          "name": "stdout",
          "text": [
            "<class 'pandas.core.frame.DataFrame'>\n",
            "Int64Index: 100 entries, 200 to 299\n",
            "Data columns (total 3 columns):\n",
            " #   Column             Non-Null Count  Dtype  \n",
            "---  ------             --------------  -----  \n",
            " 0   Região             100 non-null    object \n",
            " 1   Valor do Frete     100 non-null    float64\n",
            " 2   Dias para Entrega  100 non-null    float64\n",
            "dtypes: float64(2), object(1)\n",
            "memory usage: 3.1+ KB\n"
          ]
        }
      ]
    },
    {
      "cell_type": "markdown",
      "source": [
        "###**Correlation Analysis between data**"
      ],
      "metadata": {
        "id": "QVIFGK8mTrmR"
      }
    },
    {
      "cell_type": "markdown",
      "source": [
        "![correlation coefficient.jpg](data:image/jpeg;base64,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)"
      ],
      "metadata": {
        "id": "NfHSJ91GKBXu"
      }
    },
    {
      "cell_type": "markdown",
      "source": [
        "Some important points about the correlation is its strength and whether it is positive or negative.\n",
        "\n",
        "*   **Positive Correlation** - is when two variables that grow or decrease together, that is, have a direct relationship.\n",
        "* **Negative correlation** - is when one variable increases and the other decreases, or vice versa.\n",
        "\n",
        "*   In addition, the strength of the correlation is defined by the correlation coefficient, which can vary between **-1** and **1**. The closer to these values, the correlation is called strong.\n",
        "\n",
        "\n",
        "\n",
        "\n"
      ],
      "metadata": {
        "id": "aGJ8FVs7UnBe"
      }
    },
    {
      "cell_type": "code",
      "source": [
        "#finding the correlation\n",
        "southeast_data.corr()"
      ],
      "metadata": {
        "colab": {
          "base_uri": "https://localhost:8080/",
          "height": 168
        },
        "id": "m3VxTLYoZWrl",
        "outputId": "dc776ef6-e646-4a1d-f06a-1a40372afc33"
      },
      "execution_count": null,
      "outputs": [
        {
          "output_type": "stream",
          "name": "stderr",
          "text": [
            "<ipython-input-23-294e5e4398f2>:2: FutureWarning: The default value of numeric_only in DataFrame.corr is deprecated. In a future version, it will default to False. Select only valid columns or specify the value of numeric_only to silence this warning.\n",
            "  southeast_data.corr()\n"
          ]
        },
        {
          "output_type": "execute_result",
          "data": {
            "text/plain": [
              "                   Valor do Frete  Dias para Entrega\n",
              "Valor do Frete           1.000000          -0.900648\n",
              "Dias para Entrega       -0.900648           1.000000"
            ],
            "text/html": [
              "\n",
              "  <div id=\"df-addf5573-13c4-4440-a598-8b66731548be\">\n",
              "    <div class=\"colab-df-container\">\n",
              "      <div>\n",
              "<style scoped>\n",
              "    .dataframe tbody tr th:only-of-type {\n",
              "        vertical-align: middle;\n",
              "    }\n",
              "\n",
              "    .dataframe tbody tr th {\n",
              "        vertical-align: top;\n",
              "    }\n",
              "\n",
              "    .dataframe thead th {\n",
              "        text-align: right;\n",
              "    }\n",
              "</style>\n",
              "<table border=\"1\" class=\"dataframe\">\n",
              "  <thead>\n",
              "    <tr style=\"text-align: right;\">\n",
              "      <th></th>\n",
              "      <th>Valor do Frete</th>\n",
              "      <th>Dias para Entrega</th>\n",
              "    </tr>\n",
              "  </thead>\n",
              "  <tbody>\n",
              "    <tr>\n",
              "      <th>Valor do Frete</th>\n",
              "      <td>1.000000</td>\n",
              "      <td>-0.900648</td>\n",
              "    </tr>\n",
              "    <tr>\n",
              "      <th>Dias para Entrega</th>\n",
              "      <td>-0.900648</td>\n",
              "      <td>1.000000</td>\n",
              "    </tr>\n",
              "  </tbody>\n",
              "</table>\n",
              "</div>\n",
              "      <button class=\"colab-df-convert\" onclick=\"convertToInteractive('df-addf5573-13c4-4440-a598-8b66731548be')\"\n",
              "              title=\"Convert this dataframe to an interactive table.\"\n",
              "              style=\"display:none;\">\n",
              "        \n",
              "  <svg xmlns=\"http://www.w3.org/2000/svg\" height=\"24px\"viewBox=\"0 0 24 24\"\n",
              "       width=\"24px\">\n",
              "    <path d=\"M0 0h24v24H0V0z\" fill=\"none\"/>\n",
              "    <path d=\"M18.56 5.44l.94 2.06.94-2.06 2.06-.94-2.06-.94-.94-2.06-.94 2.06-2.06.94zm-11 1L8.5 8.5l.94-2.06 2.06-.94-2.06-.94L8.5 2.5l-.94 2.06-2.06.94zm10 10l.94 2.06.94-2.06 2.06-.94-2.06-.94-.94-2.06-.94 2.06-2.06.94z\"/><path d=\"M17.41 7.96l-1.37-1.37c-.4-.4-.92-.59-1.43-.59-.52 0-1.04.2-1.43.59L10.3 9.45l-7.72 7.72c-.78.78-.78 2.05 0 2.83L4 21.41c.39.39.9.59 1.41.59.51 0 1.02-.2 1.41-.59l7.78-7.78 2.81-2.81c.8-.78.8-2.07 0-2.86zM5.41 20L4 18.59l7.72-7.72 1.47 1.35L5.41 20z\"/>\n",
              "  </svg>\n",
              "      </button>\n",
              "      \n",
              "  <style>\n",
              "    .colab-df-container {\n",
              "      display:flex;\n",
              "      flex-wrap:wrap;\n",
              "      gap: 12px;\n",
              "    }\n",
              "\n",
              "    .colab-df-convert {\n",
              "      background-color: #E8F0FE;\n",
              "      border: none;\n",
              "      border-radius: 50%;\n",
              "      cursor: pointer;\n",
              "      display: none;\n",
              "      fill: #1967D2;\n",
              "      height: 32px;\n",
              "      padding: 0 0 0 0;\n",
              "      width: 32px;\n",
              "    }\n",
              "\n",
              "    .colab-df-convert:hover {\n",
              "      background-color: #E2EBFA;\n",
              "      box-shadow: 0px 1px 2px rgba(60, 64, 67, 0.3), 0px 1px 3px 1px rgba(60, 64, 67, 0.15);\n",
              "      fill: #174EA6;\n",
              "    }\n",
              "\n",
              "    [theme=dark] .colab-df-convert {\n",
              "      background-color: #3B4455;\n",
              "      fill: #D2E3FC;\n",
              "    }\n",
              "\n",
              "    [theme=dark] .colab-df-convert:hover {\n",
              "      background-color: #434B5C;\n",
              "      box-shadow: 0px 1px 3px 1px rgba(0, 0, 0, 0.15);\n",
              "      filter: drop-shadow(0px 1px 2px rgba(0, 0, 0, 0.3));\n",
              "      fill: #FFFFFF;\n",
              "    }\n",
              "  </style>\n",
              "\n",
              "      <script>\n",
              "        const buttonEl =\n",
              "          document.querySelector('#df-addf5573-13c4-4440-a598-8b66731548be button.colab-df-convert');\n",
              "        buttonEl.style.display =\n",
              "          google.colab.kernel.accessAllowed ? 'block' : 'none';\n",
              "\n",
              "        async function convertToInteractive(key) {\n",
              "          const element = document.querySelector('#df-addf5573-13c4-4440-a598-8b66731548be');\n",
              "          const dataTable =\n",
              "            await google.colab.kernel.invokeFunction('convertToInteractive',\n",
              "                                                     [key], {});\n",
              "          if (!dataTable) return;\n",
              "\n",
              "          const docLinkHtml = 'Like what you see? Visit the ' +\n",
              "            '<a target=\"_blank\" href=https://colab.research.google.com/notebooks/data_table.ipynb>data table notebook</a>'\n",
              "            + ' to learn more about interactive tables.';\n",
              "          element.innerHTML = '';\n",
              "          dataTable['output_type'] = 'display_data';\n",
              "          await google.colab.output.renderOutput(dataTable, element);\n",
              "          const docLink = document.createElement('div');\n",
              "          docLink.innerHTML = docLinkHtml;\n",
              "          element.appendChild(docLink);\n",
              "        }\n",
              "      </script>\n",
              "    </div>\n",
              "  </div>\n",
              "  "
            ]
          },
          "metadata": {},
          "execution_count": 23
        }
      ]
    },
    {
      "cell_type": "code",
      "source": [
        "#graphical correlation analysis\n",
        "correlacao = southeast_data.corr()\n",
        "sns.heatmap(correlacao, annot=True)"
      ],
      "metadata": {
        "colab": {
          "base_uri": "https://localhost:8080/",
          "height": 510
        },
        "id": "PEmbQ0pqc-0p",
        "outputId": "42fa5f2c-4797-4264-8410-90547c93dce3"
      },
      "execution_count": null,
      "outputs": [
        {
          "output_type": "stream",
          "name": "stderr",
          "text": [
            "<ipython-input-24-058045db5872>:2: FutureWarning: The default value of numeric_only in DataFrame.corr is deprecated. In a future version, it will default to False. Select only valid columns or specify the value of numeric_only to silence this warning.\n",
            "  correlacao = southeast_data.corr()\n"
          ]
        },
        {
          "output_type": "execute_result",
          "data": {
            "text/plain": [
              "<Axes: >"
            ]
          },
          "metadata": {},
          "execution_count": 24
        },
        {
          "output_type": "display_data",
          "data": {
            "text/plain": [
              "<Figure size 640x480 with 2 Axes>"
            ],
            "image/png": "[encoded data removed]"
          },
          "metadata": {}
        }
      ]
    },
    {
      "cell_type": "markdown",
      "source": [
        "Therefore, it can be concluded that the **\"Freight Value\"** and the **\"Days for Delivery\"** have a **strong positive linear correlation** because the correlation coefficient \"**-0.9**\" is very close to \"**-1**\". In other words, when the delivery day varies, the freight value also varies and this variation occurs in a direct way (when one increases, the other also increases or vice versa)."
      ],
      "metadata": {
        "id": "AGu_bm_4Il2S"
      }
    },
    {
      "cell_type": "markdown",
      "source": [
        "###**Data Treatment**"
      ],
      "metadata": {
        "id": "Ktp77J_4dsDI"
      }
    },
    {
      "cell_type": "markdown",
      "source": [
        "###**Creating the predictor variable (X) - Freight Cost**"
      ],
      "metadata": {
        "id": "usDQC1WLd4jA"
      }
    },
    {
      "cell_type": "code",
      "source": [
        "x = southeast_data.iloc[:,1].values\n",
        "print(x)"
      ],
      "metadata": {
        "colab": {
          "base_uri": "https://localhost:8080/"
        },
        "id": "yhudjDTdeBtK",
        "outputId": "044703e8-d597-4ebc-ed60-a64117b280ad"
      },
      "execution_count": null,
      "outputs": [
        {
          "output_type": "stream",
          "name": "stdout",
          "text": [
            "[106.04 103.51  82.69 108.23 116.11 116.26  92.89 116.46 111.23  48.95\n",
            "  41.5   78.98 102.68  63.54  92.67  49.36  59.45  89.51  91.84  70.88\n",
            " 115.21  60.42 119.57  66.   118.7   37.7   88.29  56.9   87.75 101.31\n",
            "  82.85  65.84  96.94  68.87  33.47  60.72 100.98 106.64 109.98  84.89\n",
            "  76.32 100.53 117.47  86.73 115.8   69.96  98.35  84.64 118.49  94.12\n",
            "  89.33  82.59 100.33 117.05  85.69  59.6  108.99  95.84 118.57  50.12\n",
            "  80.26  74.58  57.69  60.26 115.93  88.84  92.82  89.15  96.69 114.66\n",
            " 114.56  60.02  91.63 119.06  98.77  88.12  59.78  95.71  74.45  95.53\n",
            "  87.85 109.58  19.17 107.31 107.27  93.99  83.67  73.73  84.72  75.63\n",
            "  78.52  77.17  51.31  46.94 102.65  84.04 108.2   96.42 115.34  70.3 ]\n"
          ]
        }
      ]
    },
    {
      "cell_type": "markdown",
      "source": [
        "###**Creating the target variable (Y) - Days to Delivery**"
      ],
      "metadata": {
        "id": "x5f5RXIUFx4s"
      }
    },
    {
      "cell_type": "code",
      "source": [
        "y = southeast_data.iloc[:,2].values\n",
        "print(y)"
      ],
      "metadata": {
        "colab": {
          "base_uri": "https://localhost:8080/"
        },
        "id": "Y8IYYrjiwlyA",
        "outputId": "ba4813f7-023d-4e7c-abfc-ad8984f2ace7"
      },
      "execution_count": null,
      "outputs": [
        {
          "output_type": "stream",
          "name": "stdout",
          "text": [
            "[ 8.  1. 13.  4.  1.  2. 11.  1.  4. 15. 18.  7.  6. 17.  9. 20. 16.  3.\n",
            "  5. 11.  2. 18.  3. 13.  1. 17.  5. 16.  7.  4. 10. 15.  5.  9. 23. 12.\n",
            "  9.  7.  1.  7.  6.  4.  1.  8.  1. 13.  9.  6.  2. 11. 11. 10.  8.  1.\n",
            " 13. 16.  1.  5.  4. 19. 12. 10. 13. 12.  2.  3.  4.  7.  8.  3.  1. 16.\n",
            "  2.  1.  2.  5. 15.  2.  8. 11.  5.  1. 26.  4.  1. 10.  7. 10.  7. 13.\n",
            " 11. 12. 16. 14.  2.  5.  4.  4.  5. 13.]\n"
          ]
        }
      ]
    },
    {
      "cell_type": "markdown",
      "source": [
        "###**Checking Variable Types**"
      ],
      "metadata": {
        "id": "hzWx7SOUmYuM"
      }
    },
    {
      "cell_type": "code",
      "source": [
        "type(x)"
      ],
      "metadata": {
        "colab": {
          "base_uri": "https://localhost:8080/"
        },
        "id": "x3-zP4tomlXl",
        "outputId": "7feb7e85-a726-4620-8949-a045d550bfe4"
      },
      "execution_count": null,
      "outputs": [
        {
          "output_type": "execute_result",
          "data": {
            "text/plain": [
              "numpy.ndarray"
            ]
          },
          "metadata": {},
          "execution_count": 32
        }
      ]
    },
    {
      "cell_type": "code",
      "source": [
        "type(y)"
      ],
      "metadata": {
        "colab": {
          "base_uri": "https://localhost:8080/"
        },
        "id": "1sFVAmj9muaw",
        "outputId": "4924b754-3e10-44c3-833e-b4aecb14a76e"
      },
      "execution_count": null,
      "outputs": [
        {
          "output_type": "execute_result",
          "data": {
            "text/plain": [
              "numpy.ndarray"
            ]
          },
          "metadata": {},
          "execution_count": 33
        }
      ]
    },
    {
      "cell_type": "code",
      "source": [
        "x.shape"
      ],
      "metadata": {
        "colab": {
          "base_uri": "https://localhost:8080/"
        },
        "id": "c-RDQzAem9YU",
        "outputId": "6fec3e8a-3984-47c9-9261-b23a1083ae57"
      },
      "execution_count": null,
      "outputs": [
        {
          "output_type": "execute_result",
          "data": {
            "text/plain": [
              "(100,)"
            ]
          },
          "metadata": {},
          "execution_count": 34
        }
      ]
    },
    {
      "cell_type": "markdown",
      "source": [
        "###**Transforming array into matrix**"
      ],
      "metadata": {
        "id": "phkJ9ZeNmdur"
      }
    },
    {
      "cell_type": "code",
      "source": [
        "x = x.reshape(-1,1)"
      ],
      "metadata": {
        "id": "7R5fNFM3nk53"
      },
      "execution_count": null,
      "outputs": []
    },
    {
      "cell_type": "code",
      "source": [
        "x.shape"
      ],
      "metadata": {
        "colab": {
          "base_uri": "https://localhost:8080/"
        },
        "id": "KPfDgZcNnvvD",
        "outputId": "35ec7744-21c4-4edc-eb63-eea9844c649f"
      },
      "execution_count": null,
      "outputs": [
        {
          "output_type": "execute_result",
          "data": {
            "text/plain": [
              "(100, 1)"
            ]
          },
          "metadata": {},
          "execution_count": 36
        }
      ]
    },
    {
      "cell_type": "markdown",
      "source": [
        "###**Creating the Machine Learning Model**"
      ],
      "metadata": {
        "id": "CAd0ZTZ1pNW5"
      }
    },
    {
      "cell_type": "code",
      "source": [
        "from sklearn.linear_model import LinearRegression\n",
        "prediction_delivery_days = LinearRegression()"
      ],
      "metadata": {
        "id": "iMnkAinbpSi3"
      },
      "execution_count": null,
      "outputs": []
    },
    {
      "cell_type": "code",
      "source": [
        "type(prediction_delivery_days)"
      ],
      "metadata": {
        "colab": {
          "base_uri": "https://localhost:8080/"
        },
        "id": "7DC5G1m7qd1K",
        "outputId": "64777b26-c593-4d90-8569-3448053f9ab2"
      },
      "execution_count": null,
      "outputs": [
        {
          "output_type": "execute_result",
          "data": {
            "text/plain": [
              "sklearn.linear_model._base.LinearRegression"
            ]
          },
          "metadata": {},
          "execution_count": 20
        }
      ]
    },
    {
      "cell_type": "code",
      "source": [
        "prediction_delivery_days.fit(x, y)"
      ],
      "metadata": {
        "colab": {
          "base_uri": "https://localhost:8080/",
          "height": 74
        },
        "id": "evhTLENtqFlc",
        "outputId": "535c4447-6f99-47cd-9c9e-0fb7accb6e01"
      },
      "execution_count": null,
      "outputs": [
        {
          "output_type": "execute_result",
          "data": {
            "text/plain": [
              "LinearRegression()"
            ],
            "text/html": [
              "<style>#sk-container-id-1 {color: black;background-color: white;}#sk-container-id-1 pre{padding: 0;}#sk-container-id-1 div.sk-toggleable {background-color: white;}#sk-container-id-1 label.sk-toggleable__label {cursor: pointer;display: block;width: 100%;margin-bottom: 0;padding: 0.3em;box-sizing: border-box;text-align: center;}#sk-container-id-1 label.sk-toggleable__label-arrow:before {content: \"▸\";float: left;margin-right: 0.25em;color: #696969;}#sk-container-id-1 label.sk-toggleable__label-arrow:hover:before {color: black;}#sk-container-id-1 div.sk-estimator:hover label.sk-toggleable__label-arrow:before {color: black;}#sk-container-id-1 div.sk-toggleable__content {max-height: 0;max-width: 0;overflow: hidden;text-align: left;background-color: #f0f8ff;}#sk-container-id-1 div.sk-toggleable__content pre {margin: 0.2em;color: black;border-radius: 0.25em;background-color: #f0f8ff;}#sk-container-id-1 input.sk-toggleable__control:checked~div.sk-toggleable__content {max-height: 200px;max-width: 100%;overflow: auto;}#sk-container-id-1 input.sk-toggleable__control:checked~label.sk-toggleable__label-arrow:before {content: \"▾\";}#sk-container-id-1 div.sk-estimator input.sk-toggleable__control:checked~label.sk-toggleable__label {background-color: #d4ebff;}#sk-container-id-1 div.sk-label input.sk-toggleable__control:checked~label.sk-toggleable__label {background-color: #d4ebff;}#sk-container-id-1 input.sk-hidden--visually {border: 0;clip: rect(1px 1px 1px 1px);clip: rect(1px, 1px, 1px, 1px);height: 1px;margin: -1px;overflow: hidden;padding: 0;position: absolute;width: 1px;}#sk-container-id-1 div.sk-estimator {font-family: monospace;background-color: #f0f8ff;border: 1px dotted black;border-radius: 0.25em;box-sizing: border-box;margin-bottom: 0.5em;}#sk-container-id-1 div.sk-estimator:hover {background-color: #d4ebff;}#sk-container-id-1 div.sk-parallel-item::after {content: \"\";width: 100%;border-bottom: 1px solid gray;flex-grow: 1;}#sk-container-id-1 div.sk-label:hover label.sk-toggleable__label {background-color: #d4ebff;}#sk-container-id-1 div.sk-serial::before {content: \"\";position: absolute;border-left: 1px solid gray;box-sizing: border-box;top: 0;bottom: 0;left: 50%;z-index: 0;}#sk-container-id-1 div.sk-serial {display: flex;flex-direction: column;align-items: center;background-color: white;padding-right: 0.2em;padding-left: 0.2em;position: relative;}#sk-container-id-1 div.sk-item {position: relative;z-index: 1;}#sk-container-id-1 div.sk-parallel {display: flex;align-items: stretch;justify-content: center;background-color: white;position: relative;}#sk-container-id-1 div.sk-item::before, #sk-container-id-1 div.sk-parallel-item::before {content: \"\";position: absolute;border-left: 1px solid gray;box-sizing: border-box;top: 0;bottom: 0;left: 50%;z-index: -1;}#sk-container-id-1 div.sk-parallel-item {display: flex;flex-direction: column;z-index: 1;position: relative;background-color: white;}#sk-container-id-1 div.sk-parallel-item:first-child::after {align-self: flex-end;width: 50%;}#sk-container-id-1 div.sk-parallel-item:last-child::after {align-self: flex-start;width: 50%;}#sk-container-id-1 div.sk-parallel-item:only-child::after {width: 0;}#sk-container-id-1 div.sk-dashed-wrapped {border: 1px dashed gray;margin: 0 0.4em 0.5em 0.4em;box-sizing: border-box;padding-bottom: 0.4em;background-color: white;}#sk-container-id-1 div.sk-label label {font-family: monospace;font-weight: bold;display: inline-block;line-height: 1.2em;}#sk-container-id-1 div.sk-label-container {text-align: center;}#sk-container-id-1 div.sk-container {/* jupyter's `normalize.less` sets `[hidden] { display: none; }` but bootstrap.min.css set `[hidden] { display: none !important; }` so we also need the `!important` here to be able to override the default hidden behavior on the sphinx rendered scikit-learn.org. See: https://github.com/scikit-learn/scikit-learn/issues/21755 */display: inline-block !important;position: relative;}#sk-container-id-1 div.sk-text-repr-fallback {display: none;}</style><div id=\"sk-container-id-1\" class=\"sk-top-container\"><div class=\"sk-text-repr-fallback\"><pre>LinearRegression()</pre><b>In a Jupyter environment, please rerun this cell to show the HTML representation or trust the notebook. <br />On GitHub, the HTML representation is unable to render, please try loading this page with nbviewer.org.</b></div><div class=\"sk-container\" hidden><div class=\"sk-item\"><div class=\"sk-estimator sk-toggleable\"><input class=\"sk-toggleable__control sk-hidden--visually\" id=\"sk-estimator-id-1\" type=\"checkbox\" checked><label for=\"sk-estimator-id-1\" class=\"sk-toggleable__label sk-toggleable__label-arrow\">LinearRegression</label><div class=\"sk-toggleable__content\"><pre>LinearRegression()</pre></div></div></div></div></div>"
            ]
          },
          "metadata": {},
          "execution_count": 21
        }
      ]
    },
    {
      "cell_type": "markdown",
      "source": [
        "### **Calculating the Intersection of the Line**"
      ],
      "metadata": {
        "id": "MafW_b8Yq-Lk"
      }
    },
    {
      "cell_type": "code",
      "source": [
        "prediction_delivery_days.intercept_"
      ],
      "metadata": {
        "colab": {
          "base_uri": "https://localhost:8080/"
        },
        "id": "cP4w-9wxrSGa",
        "outputId": "008bf839-bc11-4bab-f719-2c5103d83dcc"
      },
      "execution_count": null,
      "outputs": [
        {
          "output_type": "execute_result",
          "data": {
            "text/plain": [
              "27.94772254633564"
            ]
          },
          "metadata": {},
          "execution_count": 22
        }
      ]
    },
    {
      "cell_type": "markdown",
      "source": [
        "###**Calculating the Angular Coefficient of the Line**"
      ],
      "metadata": {
        "id": "fuALBADmrkm5"
      }
    },
    {
      "cell_type": "code",
      "source": [
        "prediction_delivery_days.coef_"
      ],
      "metadata": {
        "colab": {
          "base_uri": "https://localhost:8080/"
        },
        "id": "4x_ZHDJSrv4X",
        "outputId": "fe845d80-ea2d-4d46-947c-9939939e172d"
      },
      "execution_count": null,
      "outputs": [
        {
          "output_type": "execute_result",
          "data": {
            "text/plain": [
              "array([-0.22741735])"
            ]
          },
          "metadata": {},
          "execution_count": 23
        }
      ]
    },
    {
      "cell_type": "markdown",
      "source": [
        "##**Predicting Days to Delivery**"
      ],
      "metadata": {
        "id": "I7rtVXt3sCRl"
      }
    },
    {
      "cell_type": "code",
      "source": [
        "prediction_values = prediction_delivery_days.predict(x)"
      ],
      "metadata": {
        "id": "6uS8BHFgsI_t"
      },
      "execution_count": null,
      "outputs": []
    },
    {
      "cell_type": "code",
      "source": [
        "x"
      ],
      "metadata": {
        "colab": {
          "base_uri": "https://localhost:8080/"
        },
        "id": "RBIIcCFPs2l4",
        "outputId": "417608e0-dacd-42ec-b8ed-4ef01b33396a"
      },
      "execution_count": null,
      "outputs": [
        {
          "output_type": "execute_result",
          "data": {
            "text/plain": [
              "array([[106.04],\n",
              "       [103.51],\n",
              "       [ 82.69],\n",
              "       [108.23],\n",
              "       [116.11],\n",
              "       [116.26],\n",
              "       [ 92.89],\n",
              "       [116.46],\n",
              "       [111.23],\n",
              "       [ 48.95],\n",
              "       [ 41.5 ],\n",
              "       [ 78.98],\n",
              "       [102.68],\n",
              "       [ 63.54],\n",
              "       [ 92.67],\n",
              "       [ 49.36],\n",
              "       [ 59.45],\n",
              "       [ 89.51],\n",
              "       [ 91.84],\n",
              "       [ 70.88],\n",
              "       [115.21],\n",
              "       [ 60.42],\n",
              "       [119.57],\n",
              "       [ 66.  ],\n",
              "       [118.7 ],\n",
              "       [ 37.7 ],\n",
              "       [ 88.29],\n",
              "       [ 56.9 ],\n",
              "       [ 87.75],\n",
              "       [101.31],\n",
              "       [ 82.85],\n",
              "       [ 65.84],\n",
              "       [ 96.94],\n",
              "       [ 68.87],\n",
              "       [ 33.47],\n",
              "       [ 60.72],\n",
              "       [100.98],\n",
              "       [106.64],\n",
              "       [109.98],\n",
              "       [ 84.89],\n",
              "       [ 76.32],\n",
              "       [100.53],\n",
              "       [117.47],\n",
              "       [ 86.73],\n",
              "       [115.8 ],\n",
              "       [ 69.96],\n",
              "       [ 98.35],\n",
              "       [ 84.64],\n",
              "       [118.49],\n",
              "       [ 94.12],\n",
              "       [ 89.33],\n",
              "       [ 82.59],\n",
              "       [100.33],\n",
              "       [117.05],\n",
              "       [ 85.69],\n",
              "       [ 59.6 ],\n",
              "       [108.99],\n",
              "       [ 95.84],\n",
              "       [118.57],\n",
              "       [ 50.12],\n",
              "       [ 80.26],\n",
              "       [ 74.58],\n",
              "       [ 57.69],\n",
              "       [ 60.26],\n",
              "       [115.93],\n",
              "       [ 88.84],\n",
              "       [ 92.82],\n",
              "       [ 89.15],\n",
              "       [ 96.69],\n",
              "       [114.66],\n",
              "       [114.56],\n",
              "       [ 60.02],\n",
              "       [ 91.63],\n",
              "       [119.06],\n",
              "       [ 98.77],\n",
              "       [ 88.12],\n",
              "       [ 59.78],\n",
              "       [ 95.71],\n",
              "       [ 74.45],\n",
              "       [ 95.53],\n",
              "       [ 87.85],\n",
              "       [109.58],\n",
              "       [ 19.17],\n",
              "       [107.31],\n",
              "       [107.27],\n",
              "       [ 93.99],\n",
              "       [ 83.67],\n",
              "       [ 73.73],\n",
              "       [ 84.72],\n",
              "       [ 75.63],\n",
              "       [ 78.52],\n",
              "       [ 77.17],\n",
              "       [ 51.31],\n",
              "       [ 46.94],\n",
              "       [102.65],\n",
              "       [ 84.04],\n",
              "       [108.2 ],\n",
              "       [ 96.42],\n",
              "       [115.34],\n",
              "       [ 70.3 ]])"
            ]
          },
          "metadata": {},
          "execution_count": 25
        }
      ]
    },
    {
      "cell_type": "code",
      "source": [
        "#view the forecasts for the days for delivery\n",
        "prediction_values"
      ],
      "metadata": {
        "colab": {
          "base_uri": "https://localhost:8080/"
        },
        "id": "aunh2n6-tC8Y",
        "outputId": "486a0b57-f61c-41fb-a6ee-8cf8cb38f5ec"
      },
      "execution_count": null,
      "outputs": [
        {
          "output_type": "execute_result",
          "data": {
            "text/plain": [
              "array([ 3.83238704,  4.40775293,  9.1425821 ,  3.33434305,  1.54229436,\n",
              "        1.50818175,  6.82292516,  1.46269829,  2.65209101, 16.8156434 ,\n",
              "       18.50990264,  9.98630046,  4.59650933, 13.4976243 ,  6.87295698,\n",
              "       16.72240229, 14.42776125,  7.59159579,  7.06171337, 11.82838097,\n",
              "        1.74696997, 14.20716643,  0.75543034, 12.93817763,  0.95328343,\n",
              "       19.37408855,  7.86904496, 15.00767549,  7.99185032,  4.9080711 ,\n",
              "        9.10619533, 12.9745644 ,  5.9018849 , 12.28548984, 20.33606393,\n",
              "       14.13894122,  4.98311882,  3.69593664,  2.9363627 ,  8.64226394,\n",
              "       10.5912306 ,  5.08545663,  1.23300676,  8.22381602,  1.61279373,\n",
              "       12.03760493,  5.58122644,  8.69911827,  1.00104107,  6.54320182,\n",
              "        7.63253092,  9.16532384,  5.1309401 ,  1.32852205,  8.46033006,\n",
              "       14.39364865,  3.16150587,  6.15204399,  0.98284768, 16.5495651 ,\n",
              "        9.69520626, 10.98693679, 14.82801578, 14.2435532 ,  1.58322948,\n",
              "        7.74396542,  6.83884437,  7.67346604,  5.95873924,  1.87204951,\n",
              "        1.89479124, 14.29813336,  7.10947102,  0.87141318,  5.48571116,\n",
              "        7.90770591, 14.35271353,  6.18160824, 11.01650104,  6.22254336,\n",
              "        7.96910859,  3.02732963, 23.588132  ,  3.54356701,  3.55266371,\n",
              "        6.57276608,  8.9197131 , 11.18024153,  8.68092489, 10.74814857,\n",
              "       10.09091244, 10.39792586, 16.27893846, 17.27275227,  4.60333185,\n",
              "        8.83556868,  3.34116557,  6.02014192,  1.71740571, 11.96028303])"
            ]
          },
          "metadata": {},
          "execution_count": 26
        }
      ]
    },
    {
      "cell_type": "markdown",
      "source": [
        "##**Generating a Graphical View of the Data**"
      ],
      "metadata": {
        "id": "aBf0Dua0t_f6"
      }
    },
    {
      "cell_type": "code",
      "source": [
        "#Graphic 1\n",
        "import plotly.express as px\n",
        "graph = px.scatter(x = x.ravel(), y=y)\n",
        "graph.show()"
      ],
      "metadata": {
        "colab": {
          "base_uri": "https://localhost:8080/",
          "height": 542
        },
        "id": "zG1AlZne1BIs",
        "outputId": "c87eefec-aa66-455c-da34-bffb4ffec11c"
      },
      "execution_count": null,
      "outputs": [
        {
          "output_type": "display_data",
          "data": {
            "text/html": [
              "<html>\n",
              "<head><meta charset=\"utf-8\" /></head>\n",
              "<body>\n",
              "    <div>            <script src=\"https://cdnjs.cloudflare.com/ajax/libs/mathjax/2.7.5/MathJax.js?config=TeX-AMS-MML_SVG\"></script><script type=\"text/javascript\">if (window.MathJax && window.MathJax.Hub && window.MathJax.Hub.Config) {window.MathJax.Hub.Config({SVG: {font: \"STIX-Web\"}});}</script>                <script type=\"text/javascript\">window.PlotlyConfig = {MathJaxConfig: 'local'};</script>\n",
              "        <script src=\"https://cdn.plot.ly/plotly-2.18.2.min.js\"></script>                <div id=\"524bf048-ed83-428c-8a91-793b8afe015a\" class=\"plotly-graph-div\" style=\"height:525px; width:100%;\"></div>            <script type=\"text/javascript\">                                    window.PLOTLYENV=window.PLOTLYENV || {};                                    if (document.getElementById(\"524bf048-ed83-428c-8a91-793b8afe015a\")) {                    Plotly.newPlot(                        \"524bf048-ed83-428c-8a91-793b8afe015a\",                        [{\"hovertemplate\":\"x=%{x}<br>y=%{y}<extra></extra>\",\"legendgroup\":\"\",\"marker\":{\"color\":\"#636efa\",\"symbol\":\"circle\"},\"mode\":\"markers\",\"name\":\"\",\"orientation\":\"v\",\"showlegend\":false,\"x\":[106.04,103.51,82.69,108.23,116.11,116.26,92.89,116.46,111.23,48.95,41.5,78.98,102.68,63.54,92.67,49.36,59.45,89.51,91.84,70.88,115.21,60.42,119.57,66.0,118.7,37.7,88.29,56.9,87.75,101.31,82.85,65.84,96.94,68.87,33.47,60.72,100.98,106.64,109.98,84.89,76.32,100.53,117.47,86.73,115.8,69.96,98.35,84.64,118.49,94.12,89.33,82.59,100.33,117.05,85.69,59.6,108.99,95.84,118.57,50.12,80.26,74.58,57.69,60.26,115.93,88.84,92.82,89.15,96.69,114.66,114.56,60.02,91.63,119.06,98.77,88.12,59.78,95.71,74.45,95.53,87.85,109.58,19.17,107.31,107.27,93.99,83.67,73.73,84.72,75.63,78.52,77.17,51.31,46.94,102.65,84.04,108.2,96.42,115.34,70.3],\"xaxis\":\"x\",\"y\":[8.0,1.0,13.0,4.0,1.0,2.0,11.0,1.0,4.0,15.0,18.0,7.0,6.0,17.0,9.0,20.0,16.0,3.0,5.0,11.0,2.0,18.0,3.0,13.0,1.0,17.0,5.0,16.0,7.0,4.0,10.0,15.0,5.0,9.0,23.0,12.0,9.0,7.0,1.0,7.0,6.0,4.0,1.0,8.0,1.0,13.0,9.0,6.0,2.0,11.0,11.0,10.0,8.0,1.0,13.0,16.0,1.0,5.0,4.0,19.0,12.0,10.0,13.0,12.0,2.0,3.0,4.0,7.0,8.0,3.0,1.0,16.0,2.0,1.0,2.0,5.0,15.0,2.0,8.0,11.0,5.0,1.0,26.0,4.0,1.0,10.0,7.0,10.0,7.0,13.0,11.0,12.0,16.0,14.0,2.0,5.0,4.0,4.0,5.0,13.0],\"yaxis\":\"y\",\"type\":\"scatter\"}],                        {\"template\":{\"data\":{\"histogram2dcontour\":[{\"type\":\"histogram2dcontour\",\"colorbar\":{\"outlinewidth\":0,\"ticks\":\"\"},\"colorscale\":[[0.0,\"#0d0887\"],[0.1111111111111111,\"#46039f\"],[0.2222222222222222,\"#7201a8\"],[0.3333333333333333,\"#9c179e\"],[0.4444444444444444,\"#bd3786\"],[0.5555555555555556,\"#d8576b\"],[0.6666666666666666,\"#ed7953\"],[0.7777777777777778,\"#fb9f3a\"],[0.8888888888888888,\"#fdca26\"],[1.0,\"#f0f921\"]]}],\"choropleth\":[{\"type\":\"choropleth\",\"colorbar\":{\"outlinewidth\":0,\"ticks\":\"\"}}],\"histogram2d\":[{\"type\":\"histogram2d\",\"colorbar\":{\"outlinewidth\":0,\"ticks\":\"\"},\"colorscale\":[[0.0,\"#0d0887\"],[0.1111111111111111,\"#46039f\"],[0.2222222222222222,\"#7201a8\"],[0.3333333333333333,\"#9c179e\"],[0.4444444444444444,\"#bd3786\"],[0.5555555555555556,\"#d8576b\"],[0.6666666666666666,\"#ed7953\"],[0.7777777777777778,\"#fb9f3a\"],[0.8888888888888888,\"#fdca26\"],[1.0,\"#f0f921\"]]}],\"heatmap\":[{\"type\":\"heatmap\",\"colorbar\":{\"outlinewidth\":0,\"ticks\":\"\"},\"colorscale\":[[0.0,\"#0d0887\"],[0.1111111111111111,\"#46039f\"],[0.2222222222222222,\"#7201a8\"],[0.3333333333333333,\"#9c179e\"],[0.4444444444444444,\"#bd3786\"],[0.5555555555555556,\"#d8576b\"],[0.6666666666666666,\"#ed7953\"],[0.7777777777777778,\"#fb9f3a\"],[0.8888888888888888,\"#fdca26\"],[1.0,\"#f0f921\"]]}],\"heatmapgl\":[{\"type\":\"heatmapgl\",\"colorbar\":{\"outlinewidth\":0,\"ticks\":\"\"},\"colorscale\":[[0.0,\"#0d0887\"],[0.1111111111111111,\"#46039f\"],[0.2222222222222222,\"#7201a8\"],[0.3333333333333333,\"#9c179e\"],[0.4444444444444444,\"#bd3786\"],[0.5555555555555556,\"#d8576b\"],[0.6666666666666666,\"#ed7953\"],[0.7777777777777778,\"#fb9f3a\"],[0.8888888888888888,\"#fdca26\"],[1.0,\"#f0f921\"]]}],\"contourcarpet\":[{\"type\":\"contourcarpet\",\"colorbar\":{\"outlinewidth\":0,\"ticks\":\"\"}}],\"contour\":[{\"type\":\"contour\",\"colorbar\":{\"outlinewidth\":0,\"ticks\":\"\"},\"colorscale\":[[0.0,\"#0d0887\"],[0.1111111111111111,\"#46039f\"],[0.2222222222222222,\"#7201a8\"],[0.3333333333333333,\"#9c179e\"],[0.4444444444444444,\"#bd3786\"],[0.5555555555555556,\"#d8576b\"],[0.6666666666666666,\"#ed7953\"],[0.7777777777777778,\"#fb9f3a\"],[0.8888888888888888,\"#fdca26\"],[1.0,\"#f0f921\"]]}],\"surface\":[{\"type\":\"surface\",\"colorbar\":{\"outlinewidth\":0,\"ticks\":\"\"},\"colorscale\":[[0.0,\"#0d0887\"],[0.1111111111111111,\"#46039f\"],[0.2222222222222222,\"#7201a8\"],[0.3333333333333333,\"#9c179e\"],[0.4444444444444444,\"#bd3786\"],[0.5555555555555556,\"#d8576b\"],[0.6666666666666666,\"#ed7953\"],[0.7777777777777778,\"#fb9f3a\"],[0.8888888888888888,\"#fdca26\"],[1.0,\"#f0f921\"]]}],\"mesh3d\":[{\"type\":\"mesh3d\",\"colorbar\":{\"outlinewidth\":0,\"ticks\":\"\"}}],\"scatter\":[{\"fillpattern\":{\"fillmode\":\"overlay\",\"size\":10,\"solidity\":0.2},\"type\":\"scatter\"}],\"parcoords\":[{\"type\":\"parcoords\",\"line\":{\"colorbar\":{\"outlinewidth\":0,\"ticks\":\"\"}}}],\"scatterpolargl\":[{\"type\":\"scatterpolargl\",\"marker\":{\"colorbar\":{\"outlinewidth\":0,\"ticks\":\"\"}}}],\"bar\":[{\"error_x\":{\"color\":\"#2a3f5f\"},\"error_y\":{\"color\":\"#2a3f5f\"},\"marker\":{\"line\":{\"color\":\"#E5ECF6\",\"width\":0.5},\"pattern\":{\"fillmode\":\"overlay\",\"size\":10,\"solidity\":0.2}},\"type\":\"bar\"}],\"scattergeo\":[{\"type\":\"scattergeo\",\"marker\":{\"colorbar\":{\"outlinewidth\":0,\"ticks\":\"\"}}}],\"scatterpolar\":[{\"type\":\"scatterpolar\",\"marker\":{\"colorbar\":{\"outlinewidth\":0,\"ticks\":\"\"}}}],\"histogram\":[{\"marker\":{\"pattern\":{\"fillmode\":\"overlay\",\"size\":10,\"solidity\":0.2}},\"type\":\"histogram\"}],\"scattergl\":[{\"type\":\"scattergl\",\"marker\":{\"colorbar\":{\"outlinewidth\":0,\"ticks\":\"\"}}}],\"scatter3d\":[{\"type\":\"scatter3d\",\"line\":{\"colorbar\":{\"outlinewidth\":0,\"ticks\":\"\"}},\"marker\":{\"colorbar\":{\"outlinewidth\":0,\"ticks\":\"\"}}}],\"scattermapbox\":[{\"type\":\"scattermapbox\",\"marker\":{\"colorbar\":{\"outlinewidth\":0,\"ticks\":\"\"}}}],\"scatterternary\":[{\"type\":\"scatterternary\",\"marker\":{\"colorbar\":{\"outlinewidth\":0,\"ticks\":\"\"}}}],\"scattercarpet\":[{\"type\":\"scattercarpet\",\"marker\":{\"colorbar\":{\"outlinewidth\":0,\"ticks\":\"\"}}}],\"carpet\":[{\"aaxis\":{\"endlinecolor\":\"#2a3f5f\",\"gridcolor\":\"white\",\"linecolor\":\"white\",\"minorgridcolor\":\"white\",\"startlinecolor\":\"#2a3f5f\"},\"baxis\":{\"endlinecolor\":\"#2a3f5f\",\"gridcolor\":\"white\",\"linecolor\":\"white\",\"minorgridcolor\":\"white\",\"startlinecolor\":\"#2a3f5f\"},\"type\":\"carpet\"}],\"table\":[{\"cells\":{\"fill\":{\"color\":\"#EBF0F8\"},\"line\":{\"color\":\"white\"}},\"header\":{\"fill\":{\"color\":\"#C8D4E3\"},\"line\":{\"color\":\"white\"}},\"type\":\"table\"}],\"barpolar\":[{\"marker\":{\"line\":{\"color\":\"#E5ECF6\",\"width\":0.5},\"pattern\":{\"fillmode\":\"overlay\",\"size\":10,\"solidity\":0.2}},\"type\":\"barpolar\"}],\"pie\":[{\"automargin\":true,\"type\":\"pie\"}]},\"layout\":{\"autotypenumbers\":\"strict\",\"colorway\":[\"#636efa\",\"#EF553B\",\"#00cc96\",\"#ab63fa\",\"#FFA15A\",\"#19d3f3\",\"#FF6692\",\"#B6E880\",\"#FF97FF\",\"#FECB52\"],\"font\":{\"color\":\"#2a3f5f\"},\"hovermode\":\"closest\",\"hoverlabel\":{\"align\":\"left\"},\"paper_bgcolor\":\"white\",\"plot_bgcolor\":\"#E5ECF6\",\"polar\":{\"bgcolor\":\"#E5ECF6\",\"angularaxis\":{\"gridcolor\":\"white\",\"linecolor\":\"white\",\"ticks\":\"\"},\"radialaxis\":{\"gridcolor\":\"white\",\"linecolor\":\"white\",\"ticks\":\"\"}},\"ternary\":{\"bgcolor\":\"#E5ECF6\",\"aaxis\":{\"gridcolor\":\"white\",\"linecolor\":\"white\",\"ticks\":\"\"},\"baxis\":{\"gridcolor\":\"white\",\"linecolor\":\"white\",\"ticks\":\"\"},\"caxis\":{\"gridcolor\":\"white\",\"linecolor\":\"white\",\"ticks\":\"\"}},\"coloraxis\":{\"colorbar\":{\"outlinewidth\":0,\"ticks\":\"\"}},\"colorscale\":{\"sequential\":[[0.0,\"#0d0887\"],[0.1111111111111111,\"#46039f\"],[0.2222222222222222,\"#7201a8\"],[0.3333333333333333,\"#9c179e\"],[0.4444444444444444,\"#bd3786\"],[0.5555555555555556,\"#d8576b\"],[0.6666666666666666,\"#ed7953\"],[0.7777777777777778,\"#fb9f3a\"],[0.8888888888888888,\"#fdca26\"],[1.0,\"#f0f921\"]],\"sequentialminus\":[[0.0,\"#0d0887\"],[0.1111111111111111,\"#46039f\"],[0.2222222222222222,\"#7201a8\"],[0.3333333333333333,\"#9c179e\"],[0.4444444444444444,\"#bd3786\"],[0.5555555555555556,\"#d8576b\"],[0.6666666666666666,\"#ed7953\"],[0.7777777777777778,\"#fb9f3a\"],[0.8888888888888888,\"#fdca26\"],[1.0,\"#f0f921\"]],\"diverging\":[[0,\"#8e0152\"],[0.1,\"#c51b7d\"],[0.2,\"#de77ae\"],[0.3,\"#f1b6da\"],[0.4,\"#fde0ef\"],[0.5,\"#f7f7f7\"],[0.6,\"#e6f5d0\"],[0.7,\"#b8e186\"],[0.8,\"#7fbc41\"],[0.9,\"#4d9221\"],[1,\"#276419\"]]},\"xaxis\":{\"gridcolor\":\"white\",\"linecolor\":\"white\",\"ticks\":\"\",\"title\":{\"standoff\":15},\"zerolinecolor\":\"white\",\"automargin\":true,\"zerolinewidth\":2},\"yaxis\":{\"gridcolor\":\"white\",\"linecolor\":\"white\",\"ticks\":\"\",\"title\":{\"standoff\":15},\"zerolinecolor\":\"white\",\"automargin\":true,\"zerolinewidth\":2},\"scene\":{\"xaxis\":{\"backgroundcolor\":\"#E5ECF6\",\"gridcolor\":\"white\",\"linecolor\":\"white\",\"showbackground\":true,\"ticks\":\"\",\"zerolinecolor\":\"white\",\"gridwidth\":2},\"yaxis\":{\"backgroundcolor\":\"#E5ECF6\",\"gridcolor\":\"white\",\"linecolor\":\"white\",\"showbackground\":true,\"ticks\":\"\",\"zerolinecolor\":\"white\",\"gridwidth\":2},\"zaxis\":{\"backgroundcolor\":\"#E5ECF6\",\"gridcolor\":\"white\",\"linecolor\":\"white\",\"showbackground\":true,\"ticks\":\"\",\"zerolinecolor\":\"white\",\"gridwidth\":2}},\"shapedefaults\":{\"line\":{\"color\":\"#2a3f5f\"}},\"annotationdefaults\":{\"arrowcolor\":\"#2a3f5f\",\"arrowhead\":0,\"arrowwidth\":1},\"geo\":{\"bgcolor\":\"white\",\"landcolor\":\"#E5ECF6\",\"subunitcolor\":\"white\",\"showland\":true,\"showlakes\":true,\"lakecolor\":\"white\"},\"title\":{\"x\":0.05},\"mapbox\":{\"style\":\"light\"}}},\"xaxis\":{\"anchor\":\"y\",\"domain\":[0.0,1.0],\"title\":{\"text\":\"x\"}},\"yaxis\":{\"anchor\":\"x\",\"domain\":[0.0,1.0],\"title\":{\"text\":\"y\"}},\"legend\":{\"tracegroupgap\":0},\"margin\":{\"t\":60}},                        {\"responsive\": true}                    ).then(function(){\n",
              "                            \n",
              "var gd = document.getElementById('524bf048-ed83-428c-8a91-793b8afe015a');\n",
              "var x = new MutationObserver(function (mutations, observer) {{\n",
              "        var display = window.getComputedStyle(gd).display;\n",
              "        if (!display || display === 'none') {{\n",
              "            console.log([gd, 'removed!']);\n",
              "            Plotly.purge(gd);\n",
              "            observer.disconnect();\n",
              "        }}\n",
              "}});\n",
              "\n",
              "// Listen for the removal of the full notebook cells\n",
              "var notebookContainer = gd.closest('#notebook-container');\n",
              "if (notebookContainer) {{\n",
              "    x.observe(notebookContainer, {childList: true});\n",
              "}}\n",
              "\n",
              "// Listen for the clearing of the current output cell\n",
              "var outputEl = gd.closest('.output');\n",
              "if (outputEl) {{\n",
              "    x.observe(outputEl, {childList: true});\n",
              "}}\n",
              "\n",
              "                        })                };                            </script>        </div>\n",
              "</body>\n",
              "</html>"
            ]
          },
          "metadata": {}
        }
      ]
    },
    {
      "cell_type": "code",
      "source": [
        "#Graphic 2\n",
        "graph = px.scatter(x=x.ravel(), y=y)\n",
        "graph.add_scatter(x=x.ravel(), y = prediction_values, name = \"previsões\")\n",
        "display(graph)"
      ],
      "metadata": {
        "colab": {
          "base_uri": "https://localhost:8080/",
          "height": 542
        },
        "id": "1TTERP6K5eL-",
        "outputId": "7a4ebc26-23be-4510-f598-10a49a0e2097"
      },
      "execution_count": null,
      "outputs": [
        {
          "output_type": "display_data",
          "data": {
            "text/html": [
              "<html>\n",
              "<head><meta charset=\"utf-8\" /></head>\n",
              "<body>\n",
              "    <div>            <script src=\"https://cdnjs.cloudflare.com/ajax/libs/mathjax/2.7.5/MathJax.js?config=TeX-AMS-MML_SVG\"></script><script type=\"text/javascript\">if (window.MathJax && window.MathJax.Hub && window.MathJax.Hub.Config) {window.MathJax.Hub.Config({SVG: {font: \"STIX-Web\"}});}</script>                <script type=\"text/javascript\">window.PlotlyConfig = {MathJaxConfig: 'local'};</script>\n",
              "        <script src=\"https://cdn.plot.ly/plotly-2.18.2.min.js\"></script>                <div id=\"4ba4eccb-0435-4873-8a35-517336d5cfb1\" class=\"plotly-graph-div\" style=\"height:525px; width:100%;\"></div>            <script type=\"text/javascript\">                                    window.PLOTLYENV=window.PLOTLYENV || {};                                    if (document.getElementById(\"4ba4eccb-0435-4873-8a35-517336d5cfb1\")) {                    Plotly.newPlot(                        \"4ba4eccb-0435-4873-8a35-517336d5cfb1\",                        [{\"hovertemplate\":\"x=%{x}<br>y=%{y}<extra></extra>\",\"legendgroup\":\"\",\"marker\":{\"color\":\"#636efa\",\"symbol\":\"circle\"},\"mode\":\"markers\",\"name\":\"\",\"orientation\":\"v\",\"showlegend\":false,\"x\":[106.04,103.51,82.69,108.23,116.11,116.26,92.89,116.46,111.23,48.95,41.5,78.98,102.68,63.54,92.67,49.36,59.45,89.51,91.84,70.88,115.21,60.42,119.57,66.0,118.7,37.7,88.29,56.9,87.75,101.31,82.85,65.84,96.94,68.87,33.47,60.72,100.98,106.64,109.98,84.89,76.32,100.53,117.47,86.73,115.8,69.96,98.35,84.64,118.49,94.12,89.33,82.59,100.33,117.05,85.69,59.6,108.99,95.84,118.57,50.12,80.26,74.58,57.69,60.26,115.93,88.84,92.82,89.15,96.69,114.66,114.56,60.02,91.63,119.06,98.77,88.12,59.78,95.71,74.45,95.53,87.85,109.58,19.17,107.31,107.27,93.99,83.67,73.73,84.72,75.63,78.52,77.17,51.31,46.94,102.65,84.04,108.2,96.42,115.34,70.3],\"xaxis\":\"x\",\"y\":[8.0,1.0,13.0,4.0,1.0,2.0,11.0,1.0,4.0,15.0,18.0,7.0,6.0,17.0,9.0,20.0,16.0,3.0,5.0,11.0,2.0,18.0,3.0,13.0,1.0,17.0,5.0,16.0,7.0,4.0,10.0,15.0,5.0,9.0,23.0,12.0,9.0,7.0,1.0,7.0,6.0,4.0,1.0,8.0,1.0,13.0,9.0,6.0,2.0,11.0,11.0,10.0,8.0,1.0,13.0,16.0,1.0,5.0,4.0,19.0,12.0,10.0,13.0,12.0,2.0,3.0,4.0,7.0,8.0,3.0,1.0,16.0,2.0,1.0,2.0,5.0,15.0,2.0,8.0,11.0,5.0,1.0,26.0,4.0,1.0,10.0,7.0,10.0,7.0,13.0,11.0,12.0,16.0,14.0,2.0,5.0,4.0,4.0,5.0,13.0],\"yaxis\":\"y\",\"type\":\"scatter\"},{\"name\":\"previs\\u00f5es\",\"x\":[106.04,103.51,82.69,108.23,116.11,116.26,92.89,116.46,111.23,48.95,41.5,78.98,102.68,63.54,92.67,49.36,59.45,89.51,91.84,70.88,115.21,60.42,119.57,66.0,118.7,37.7,88.29,56.9,87.75,101.31,82.85,65.84,96.94,68.87,33.47,60.72,100.98,106.64,109.98,84.89,76.32,100.53,117.47,86.73,115.8,69.96,98.35,84.64,118.49,94.12,89.33,82.59,100.33,117.05,85.69,59.6,108.99,95.84,118.57,50.12,80.26,74.58,57.69,60.26,115.93,88.84,92.82,89.15,96.69,114.66,114.56,60.02,91.63,119.06,98.77,88.12,59.78,95.71,74.45,95.53,87.85,109.58,19.17,107.31,107.27,93.99,83.67,73.73,84.72,75.63,78.52,77.17,51.31,46.94,102.65,84.04,108.2,96.42,115.34,70.3],\"y\":[3.832387043552167,4.4077529321040565,9.142582101926312,3.33434305306654,1.542294356707302,1.508181754619244,6.822925159938464,1.462698285168507,2.6520910113054086,16.815643398266506,18.509902635306652,9.986300460237576,4.596509330324636,13.497624301834868,6.8729569763342795,16.722402285892485,14.427761252102545,7.591595793656005,7.061713374554859,11.828380972992633,1.7469699692356428,14.207166425266445,0.7554303352094642,12.938177627590742,0.9532834273201907,19.374088554870752,7.86904495730553,15.007675487599508,7.991850324822536,4.908071096062219,9.106195326365718,12.974564403151334,5.901884903560937,12.285489840972591,20.336063933753948,14.138941221090333,4.9831188206559425,3.695936635199942,2.936362695372548,8.64226393796815,10.591230603932448,5.085456626920113,1.2330067644422549,8.22381601902132,1.6127937343559537,12.037604932466047,5.581226443933204,8.699118274781576,1.001041070243474,6.543201822816396,7.632530916161674,9.16532383665168,5.130940096370857,1.3285220502888144,8.46033006016518,14.39364865001449,3.161505869153725,6.152043985540015,0.9828476824631771,16.549565101979667,9.695206255752826,10.986936788153905,14.828015783269077,14.24355320082704,1.5832294792129673,7.743965416315991,6.838844374246225,7.673466038667339,5.9587392403743635,1.8720495102251853,1.8947912449505537,14.29813336416793,7.109471017478139,0.8714131823088564,5.4857111580866444,7.907705906338663,14.35271352750882,6.181608240683001,11.016501043296884,6.222543363188667,7.969108590097164,3.0273296342740323,23.58813199948201,3.543567012539956,3.5526637064301063,6.572766077959383,8.919713101617674,11.180241533319556,8.680924887001279,10.74814857353751,10.090912439974286,10.397925858766794,16.27893845874775,17.272752266246464,4.603331850742247,8.8355686831338,3.3411655734841545,6.020141924132865,1.71740571409266,11.960283034399787],\"type\":\"scatter\"}],                        {\"template\":{\"data\":{\"histogram2dcontour\":[{\"type\":\"histogram2dcontour\",\"colorbar\":{\"outlinewidth\":0,\"ticks\":\"\"},\"colorscale\":[[0.0,\"#0d0887\"],[0.1111111111111111,\"#46039f\"],[0.2222222222222222,\"#7201a8\"],[0.3333333333333333,\"#9c179e\"],[0.4444444444444444,\"#bd3786\"],[0.5555555555555556,\"#d8576b\"],[0.6666666666666666,\"#ed7953\"],[0.7777777777777778,\"#fb9f3a\"],[0.8888888888888888,\"#fdca26\"],[1.0,\"#f0f921\"]]}],\"choropleth\":[{\"type\":\"choropleth\",\"colorbar\":{\"outlinewidth\":0,\"ticks\":\"\"}}],\"histogram2d\":[{\"type\":\"histogram2d\",\"colorbar\":{\"outlinewidth\":0,\"ticks\":\"\"},\"colorscale\":[[0.0,\"#0d0887\"],[0.1111111111111111,\"#46039f\"],[0.2222222222222222,\"#7201a8\"],[0.3333333333333333,\"#9c179e\"],[0.4444444444444444,\"#bd3786\"],[0.5555555555555556,\"#d8576b\"],[0.6666666666666666,\"#ed7953\"],[0.7777777777777778,\"#fb9f3a\"],[0.8888888888888888,\"#fdca26\"],[1.0,\"#f0f921\"]]}],\"heatmap\":[{\"type\":\"heatmap\",\"colorbar\":{\"outlinewidth\":0,\"ticks\":\"\"},\"colorscale\":[[0.0,\"#0d0887\"],[0.1111111111111111,\"#46039f\"],[0.2222222222222222,\"#7201a8\"],[0.3333333333333333,\"#9c179e\"],[0.4444444444444444,\"#bd3786\"],[0.5555555555555556,\"#d8576b\"],[0.6666666666666666,\"#ed7953\"],[0.7777777777777778,\"#fb9f3a\"],[0.8888888888888888,\"#fdca26\"],[1.0,\"#f0f921\"]]}],\"heatmapgl\":[{\"type\":\"heatmapgl\",\"colorbar\":{\"outlinewidth\":0,\"ticks\":\"\"},\"colorscale\":[[0.0,\"#0d0887\"],[0.1111111111111111,\"#46039f\"],[0.2222222222222222,\"#7201a8\"],[0.3333333333333333,\"#9c179e\"],[0.4444444444444444,\"#bd3786\"],[0.5555555555555556,\"#d8576b\"],[0.6666666666666666,\"#ed7953\"],[0.7777777777777778,\"#fb9f3a\"],[0.8888888888888888,\"#fdca26\"],[1.0,\"#f0f921\"]]}],\"contourcarpet\":[{\"type\":\"contourcarpet\",\"colorbar\":{\"outlinewidth\":0,\"ticks\":\"\"}}],\"contour\":[{\"type\":\"contour\",\"colorbar\":{\"outlinewidth\":0,\"ticks\":\"\"},\"colorscale\":[[0.0,\"#0d0887\"],[0.1111111111111111,\"#46039f\"],[0.2222222222222222,\"#7201a8\"],[0.3333333333333333,\"#9c179e\"],[0.4444444444444444,\"#bd3786\"],[0.5555555555555556,\"#d8576b\"],[0.6666666666666666,\"#ed7953\"],[0.7777777777777778,\"#fb9f3a\"],[0.8888888888888888,\"#fdca26\"],[1.0,\"#f0f921\"]]}],\"surface\":[{\"type\":\"surface\",\"colorbar\":{\"outlinewidth\":0,\"ticks\":\"\"},\"colorscale\":[[0.0,\"#0d0887\"],[0.1111111111111111,\"#46039f\"],[0.2222222222222222,\"#7201a8\"],[0.3333333333333333,\"#9c179e\"],[0.4444444444444444,\"#bd3786\"],[0.5555555555555556,\"#d8576b\"],[0.6666666666666666,\"#ed7953\"],[0.7777777777777778,\"#fb9f3a\"],[0.8888888888888888,\"#fdca26\"],[1.0,\"#f0f921\"]]}],\"mesh3d\":[{\"type\":\"mesh3d\",\"colorbar\":{\"outlinewidth\":0,\"ticks\":\"\"}}],\"scatter\":[{\"fillpattern\":{\"fillmode\":\"overlay\",\"size\":10,\"solidity\":0.2},\"type\":\"scatter\"}],\"parcoords\":[{\"type\":\"parcoords\",\"line\":{\"colorbar\":{\"outlinewidth\":0,\"ticks\":\"\"}}}],\"scatterpolargl\":[{\"type\":\"scatterpolargl\",\"marker\":{\"colorbar\":{\"outlinewidth\":0,\"ticks\":\"\"}}}],\"bar\":[{\"error_x\":{\"color\":\"#2a3f5f\"},\"error_y\":{\"color\":\"#2a3f5f\"},\"marker\":{\"line\":{\"color\":\"#E5ECF6\",\"width\":0.5},\"pattern\":{\"fillmode\":\"overlay\",\"size\":10,\"solidity\":0.2}},\"type\":\"bar\"}],\"scattergeo\":[{\"type\":\"scattergeo\",\"marker\":{\"colorbar\":{\"outlinewidth\":0,\"ticks\":\"\"}}}],\"scatterpolar\":[{\"type\":\"scatterpolar\",\"marker\":{\"colorbar\":{\"outlinewidth\":0,\"ticks\":\"\"}}}],\"histogram\":[{\"marker\":{\"pattern\":{\"fillmode\":\"overlay\",\"size\":10,\"solidity\":0.2}},\"type\":\"histogram\"}],\"scattergl\":[{\"type\":\"scattergl\",\"marker\":{\"colorbar\":{\"outlinewidth\":0,\"ticks\":\"\"}}}],\"scatter3d\":[{\"type\":\"scatter3d\",\"line\":{\"colorbar\":{\"outlinewidth\":0,\"ticks\":\"\"}},\"marker\":{\"colorbar\":{\"outlinewidth\":0,\"ticks\":\"\"}}}],\"scattermapbox\":[{\"type\":\"scattermapbox\",\"marker\":{\"colorbar\":{\"outlinewidth\":0,\"ticks\":\"\"}}}],\"scatterternary\":[{\"type\":\"scatterternary\",\"marker\":{\"colorbar\":{\"outlinewidth\":0,\"ticks\":\"\"}}}],\"scattercarpet\":[{\"type\":\"scattercarpet\",\"marker\":{\"colorbar\":{\"outlinewidth\":0,\"ticks\":\"\"}}}],\"carpet\":[{\"aaxis\":{\"endlinecolor\":\"#2a3f5f\",\"gridcolor\":\"white\",\"linecolor\":\"white\",\"minorgridcolor\":\"white\",\"startlinecolor\":\"#2a3f5f\"},\"baxis\":{\"endlinecolor\":\"#2a3f5f\",\"gridcolor\":\"white\",\"linecolor\":\"white\",\"minorgridcolor\":\"white\",\"startlinecolor\":\"#2a3f5f\"},\"type\":\"carpet\"}],\"table\":[{\"cells\":{\"fill\":{\"color\":\"#EBF0F8\"},\"line\":{\"color\":\"white\"}},\"header\":{\"fill\":{\"color\":\"#C8D4E3\"},\"line\":{\"color\":\"white\"}},\"type\":\"table\"}],\"barpolar\":[{\"marker\":{\"line\":{\"color\":\"#E5ECF6\",\"width\":0.5},\"pattern\":{\"fillmode\":\"overlay\",\"size\":10,\"solidity\":0.2}},\"type\":\"barpolar\"}],\"pie\":[{\"automargin\":true,\"type\":\"pie\"}]},\"layout\":{\"autotypenumbers\":\"strict\",\"colorway\":[\"#636efa\",\"#EF553B\",\"#00cc96\",\"#ab63fa\",\"#FFA15A\",\"#19d3f3\",\"#FF6692\",\"#B6E880\",\"#FF97FF\",\"#FECB52\"],\"font\":{\"color\":\"#2a3f5f\"},\"hovermode\":\"closest\",\"hoverlabel\":{\"align\":\"left\"},\"paper_bgcolor\":\"white\",\"plot_bgcolor\":\"#E5ECF6\",\"polar\":{\"bgcolor\":\"#E5ECF6\",\"angularaxis\":{\"gridcolor\":\"white\",\"linecolor\":\"white\",\"ticks\":\"\"},\"radialaxis\":{\"gridcolor\":\"white\",\"linecolor\":\"white\",\"ticks\":\"\"}},\"ternary\":{\"bgcolor\":\"#E5ECF6\",\"aaxis\":{\"gridcolor\":\"white\",\"linecolor\":\"white\",\"ticks\":\"\"},\"baxis\":{\"gridcolor\":\"white\",\"linecolor\":\"white\",\"ticks\":\"\"},\"caxis\":{\"gridcolor\":\"white\",\"linecolor\":\"white\",\"ticks\":\"\"}},\"coloraxis\":{\"colorbar\":{\"outlinewidth\":0,\"ticks\":\"\"}},\"colorscale\":{\"sequential\":[[0.0,\"#0d0887\"],[0.1111111111111111,\"#46039f\"],[0.2222222222222222,\"#7201a8\"],[0.3333333333333333,\"#9c179e\"],[0.4444444444444444,\"#bd3786\"],[0.5555555555555556,\"#d8576b\"],[0.6666666666666666,\"#ed7953\"],[0.7777777777777778,\"#fb9f3a\"],[0.8888888888888888,\"#fdca26\"],[1.0,\"#f0f921\"]],\"sequentialminus\":[[0.0,\"#0d0887\"],[0.1111111111111111,\"#46039f\"],[0.2222222222222222,\"#7201a8\"],[0.3333333333333333,\"#9c179e\"],[0.4444444444444444,\"#bd3786\"],[0.5555555555555556,\"#d8576b\"],[0.6666666666666666,\"#ed7953\"],[0.7777777777777778,\"#fb9f3a\"],[0.8888888888888888,\"#fdca26\"],[1.0,\"#f0f921\"]],\"diverging\":[[0,\"#8e0152\"],[0.1,\"#c51b7d\"],[0.2,\"#de77ae\"],[0.3,\"#f1b6da\"],[0.4,\"#fde0ef\"],[0.5,\"#f7f7f7\"],[0.6,\"#e6f5d0\"],[0.7,\"#b8e186\"],[0.8,\"#7fbc41\"],[0.9,\"#4d9221\"],[1,\"#276419\"]]},\"xaxis\":{\"gridcolor\":\"white\",\"linecolor\":\"white\",\"ticks\":\"\",\"title\":{\"standoff\":15},\"zerolinecolor\":\"white\",\"automargin\":true,\"zerolinewidth\":2},\"yaxis\":{\"gridcolor\":\"white\",\"linecolor\":\"white\",\"ticks\":\"\",\"title\":{\"standoff\":15},\"zerolinecolor\":\"white\",\"automargin\":true,\"zerolinewidth\":2},\"scene\":{\"xaxis\":{\"backgroundcolor\":\"#E5ECF6\",\"gridcolor\":\"white\",\"linecolor\":\"white\",\"showbackground\":true,\"ticks\":\"\",\"zerolinecolor\":\"white\",\"gridwidth\":2},\"yaxis\":{\"backgroundcolor\":\"#E5ECF6\",\"gridcolor\":\"white\",\"linecolor\":\"white\",\"showbackground\":true,\"ticks\":\"\",\"zerolinecolor\":\"white\",\"gridwidth\":2},\"zaxis\":{\"backgroundcolor\":\"#E5ECF6\",\"gridcolor\":\"white\",\"linecolor\":\"white\",\"showbackground\":true,\"ticks\":\"\",\"zerolinecolor\":\"white\",\"gridwidth\":2}},\"shapedefaults\":{\"line\":{\"color\":\"#2a3f5f\"}},\"annotationdefaults\":{\"arrowcolor\":\"#2a3f5f\",\"arrowhead\":0,\"arrowwidth\":1},\"geo\":{\"bgcolor\":\"white\",\"landcolor\":\"#E5ECF6\",\"subunitcolor\":\"white\",\"showland\":true,\"showlakes\":true,\"lakecolor\":\"white\"},\"title\":{\"x\":0.05},\"mapbox\":{\"style\":\"light\"}}},\"xaxis\":{\"anchor\":\"y\",\"domain\":[0.0,1.0],\"title\":{\"text\":\"x\"}},\"yaxis\":{\"anchor\":\"x\",\"domain\":[0.0,1.0],\"title\":{\"text\":\"y\"}},\"legend\":{\"tracegroupgap\":0},\"margin\":{\"t\":60}},                        {\"responsive\": true}                    ).then(function(){\n",
              "                            \n",
              "var gd = document.getElementById('4ba4eccb-0435-4873-8a35-517336d5cfb1');\n",
              "var x = new MutationObserver(function (mutations, observer) {{\n",
              "        var display = window.getComputedStyle(gd).display;\n",
              "        if (!display || display === 'none') {{\n",
              "            console.log([gd, 'removed!']);\n",
              "            Plotly.purge(gd);\n",
              "            observer.disconnect();\n",
              "        }}\n",
              "}});\n",
              "\n",
              "// Listen for the removal of the full notebook cells\n",
              "var notebookContainer = gd.closest('#notebook-container');\n",
              "if (notebookContainer) {{\n",
              "    x.observe(notebookContainer, {childList: true});\n",
              "}}\n",
              "\n",
              "// Listen for the clearing of the current output cell\n",
              "var outputEl = gd.closest('.output');\n",
              "if (outputEl) {{\n",
              "    x.observe(outputEl, {childList: true});\n",
              "}}\n",
              "\n",
              "                        })                };                            </script>        </div>\n",
              "</body>\n",
              "</html>"
            ]
          },
          "metadata": {}
        }
      ]
    },
    {
      "cell_type": "markdown",
      "source": [
        "##**Calculating delivery days according to the equation**"
      ],
      "metadata": {
        "id": "HBRfXAyfC0PE"
      }
    },
    {
      "cell_type": "markdown",
      "source": [
        "![download (1).png](data:image/png;base64,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)"
      ],
      "metadata": {
        "id": "YkYSRNWW7Hyr"
      }
    },
    {
      "cell_type": "code",
      "source": [
        "#Checking the values of a certain forecast based on the freight value\n",
        "alfa = prediction_delivery_days.intercept_\n",
        "beta = prediction_delivery_days.coef_\n",
        "X = 118\n",
        "\n",
        "Y = alfa + beta * X"
      ],
      "metadata": {
        "colab": {
          "base_uri": "https://localhost:8080/"
        },
        "id": "3MAQmlnD9juz",
        "outputId": "3eea79fd-781d-4941-ec1c-81ba88309deb"
      },
      "execution_count": null,
      "outputs": [
        {
          "output_type": "execute_result",
          "data": {
            "text/plain": [
              "array([1.11247557])"
            ]
          },
          "metadata": {},
          "execution_count": 29
        }
      ]
    },
    {
      "cell_type": "markdown",
      "source": [
        "One way to get the amount of days to delivery is through the equation above, in which the variable **X** represents the **value of freight** and the variable **Y** what we want to find out (**days to delivery**).  In the example above, the number of days for delivery was calculated for a freight of R$ 118,00"
      ],
      "metadata": {
        "id": "u9K_Wm4MFUh7"
      }
    },
    {
      "cell_type": "markdown",
      "source": [
        "##**Calculating delivery days using the model's predict function**"
      ],
      "metadata": {
        "id": "w2XNqqrTDCp9"
      }
    },
    {
      "cell_type": "code",
      "source": [
        "#Calculating in a direct way\n",
        "\n",
        "prediction_delivery_days.predict([[52.98]])"
      ],
      "metadata": {
        "colab": {
          "base_uri": "https://localhost:8080/"
        },
        "id": "Li-heHXC-U-j",
        "outputId": "8db2b21a-474d-4dd5-dbb5-138b769bec2b"
      },
      "execution_count": null,
      "outputs": [
        {
          "output_type": "execute_result",
          "data": {
            "text/plain": [
              "array([15.89915149])"
            ]
          },
          "metadata": {},
          "execution_count": 152
        }
      ]
    },
    {
      "cell_type": "code",
      "source": [
        "round(15.89915149, 0)"
      ],
      "metadata": {
        "colab": {
          "base_uri": "https://localhost:8080/"
        },
        "id": "uFZzVijQIArl",
        "outputId": "345d92ac-e0e6-4f9d-9d7e-4bf747b54e7c"
      },
      "execution_count": null,
      "outputs": [
        {
          "output_type": "execute_result",
          "data": {
            "text/plain": [
              "16.0"
            ]
          },
          "metadata": {},
          "execution_count": 153
        }
      ]
    },
    {
      "cell_type": "markdown",
      "source": [
        "Another way to calculate the amount of days for delivery is with the predict function. In the example above, we calculated the days to delivery for a freight of R$ 52,98."
      ],
      "metadata": {
        "id": "lCp-0YtLJQyg"
      }
    },
    {
      "cell_type": "markdown",
      "source": [
        "##**Model Evaluation**"
      ],
      "metadata": {
        "id": "bc1hH2RxDO1f"
      }
    },
    {
      "cell_type": "code",
      "source": [
        "#Calculating the model's accuracy\n",
        "prediction_delivery_days.score(x,y)"
      ],
      "metadata": {
        "colab": {
          "base_uri": "https://localhost:8080/"
        },
        "id": "bBLpi_ywBQ6Q",
        "outputId": "929cfa5c-276d-42f9-9038-2a7631f06889"
      },
      "execution_count": null,
      "outputs": [
        {
          "output_type": "execute_result",
          "data": {
            "text/plain": [
              "0.8111671052762233"
            ]
          },
          "metadata": {},
          "execution_count": 154
        }
      ]
    },
    {
      "cell_type": "markdown",
      "source": [
        "##**Mean absoluted error**"
      ],
      "metadata": {
        "id": "SwhhF4KLDU8c"
      }
    },
    {
      "cell_type": "code",
      "source": [
        "#Calculating the Mean Absoluted Error\n",
        "mean_absolute_error(y, prediction_values)"
      ],
      "metadata": {
        "colab": {
          "base_uri": "https://localhost:8080/"
        },
        "id": "fiTybL4sCd2Z",
        "outputId": "299fc352-e714-402a-8178-bf5a28802bcb"
      },
      "execution_count": null,
      "outputs": [
        {
          "output_type": "execute_result",
          "data": {
            "text/plain": [
              "2.091861170350245"
            ]
          },
          "metadata": {},
          "execution_count": 155
        }
      ]
    },
    {
      "cell_type": "markdown",
      "source": [
        "##**Mean squared error**"
      ],
      "metadata": {
        "id": "VH9NJ1QgDa2l"
      }
    },
    {
      "cell_type": "code",
      "source": [
        "#Calculating the Mean Squared Error\n",
        "MSE = mean_squared_error(y, prediction_values)\n",
        "print(MSE)"
      ],
      "metadata": {
        "colab": {
          "base_uri": "https://localhost:8080/"
        },
        "id": "1fqg6QmaBnQ0",
        "outputId": "7a02d338-6ddd-4d7b-9353-fad5af054895"
      },
      "execution_count": null,
      "outputs": [
        {
          "output_type": "stream",
          "name": "stdout",
          "text": [
            "96.3902452402291\n"
          ]
        }
      ]
    },
    {
      "cell_type": "markdown",
      "source": [
        "##**Root mean squared error**"
      ],
      "metadata": {
        "id": "8axH_RppDgF2"
      }
    },
    {
      "cell_type": "code",
      "source": [
        "#Calculating the Root Mean Squared Error\n",
        "np.sqrt(MSE)"
      ],
      "metadata": {
        "colab": {
          "base_uri": "https://localhost:8080/"
        },
        "id": "139yE1uXCFmq",
        "outputId": "b0b95b08-67ee-44f1-d7d0-aa24614c98bd"
      },
      "execution_count": null,
      "outputs": [
        {
          "output_type": "execute_result",
          "data": {
            "text/plain": [
              "9.817853392683611"
            ]
          },
          "metadata": {},
          "execution_count": 100
        }
      ]
    }
  ]
}